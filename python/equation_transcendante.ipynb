{
 "cells": [
  {
   "cell_type": "code",
   "execution_count": 1,
   "metadata": {},
   "outputs": [
    {
     "name": "stdout",
     "output_type": "stream",
     "text": [
      "Populating the interactive namespace from numpy and matplotlib\n"
     ]
    }
   ],
   "source": [
    "%pylab inline\n",
    "from scipy.optimize import bisect"
   ]
  },
  {
   "cell_type": "code",
   "execution_count": 37,
   "metadata": {},
   "outputs": [
    {
     "name": "stdout",
     "output_type": "stream",
     "text": [
      "34\n",
      "1.065940683889498\n",
      "1.1857648196667014e-10\n"
     ]
    },
    {
     "data": {
      "image/png": "[encoded data removed]",
      "text/plain": [
       "<Figure size 432x288 with 1 Axes>"
      ]
     },
     "metadata": {
      "needs_background": "light"
     },
     "output_type": "display_data"
    }
   ],
   "source": [
    "M = np.pi/5\n",
    "e = .5\n",
    "\n",
    "def euler_eq(x):\n",
    "    return M - x + e*np.sin(x)\n",
    "\n",
    "x = np.linspace(-np.pi, np.pi, 1001)\n",
    "plt.plot(x/np.pi, euler_eq(x))\n",
    "\n",
    "E_bisect = bisect(euler_eq, -np.pi, np.pi)\n",
    "plt.plot([E_bisect/np.pi], [0], \"o\")\n",
    "\n",
    "def dichotomie(f, a, b, p=1e-10, n_max=100):\n",
    "    compteur = 0\n",
    "    r = a\n",
    "    while np.abs(f(r)) > p and compteur < n_max:\n",
    "        compteur += 1\n",
    "        r = (a + b) / 2\n",
    "        if f(r)*f(a) < 0:\n",
    "            b = r\n",
    "        elif f(r)*f(b) < 0:\n",
    "            a = r\n",
    "        else:\n",
    "            print(\"Error\")\n",
    "            return\n",
    "    print(compteur)\n",
    "    return r\n",
    "\n",
    "E_dicho = dichotomie(euler_eq, -np.pi, np.pi)\n",
    "print(E_bisect)\n",
    "print(np.abs(E_dicho - E_bisect))"
   ]
  },
  {
   "cell_type": "code",
   "execution_count": null,
   "metadata": {},
   "outputs": [],
   "source": []
  }
 ],
 "metadata": {
  "kernelspec": {
   "display_name": "Python 3",
   "language": "python",
   "name": "python3"
  },
  "language_info": {
   "codemirror_mode": {
    "name": "ipython",
    "version": 3
   },
   "file_extension": ".py",
   "mimetype": "text/x-python",
   "name": "python",
   "nbconvert_exporter": "python",
   "pygments_lexer": "ipython3",
   "version": "3.8.3"
  }
 },
 "nbformat": 4,
 "nbformat_minor": 4
}
