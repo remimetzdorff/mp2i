{
 "cells": [
  {
   "cell_type": "code",
   "execution_count": 1,
   "metadata": {},
   "outputs": [
    {
     "name": "stdout",
     "output_type": "stream",
     "text": [
      "Populating the interactive namespace from numpy and matplotlib\n"
     ]
    }
   ],
   "source": [
    "%pylab qt\n",
    "from fitting import fitting"
   ]
  },
  {
   "cell_type": "markdown",
   "metadata": {},
   "source": [
    "# Chute d'une bille dans le glycérol"
   ]
  },
  {
   "cell_type": "code",
   "execution_count": 7,
   "metadata": {},
   "outputs": [
    {
     "data": {
      "text/plain": [
       "<matplotlib.legend.Legend at 0x7fcfd8cfe1c0>"
      ]
     },
     "execution_count": 7,
     "metadata": {},
     "output_type": "execute_result"
    }
   ],
   "source": [
    "def deriv(x,t):\n",
    "    \"\"\"calcule la dérivée numérique des valeurs de x par rapport à t\"\"\"\n",
    "    dt = np.diff(t)      # valeurs de dt\n",
    "    dx = np.diff(x)      # valeurs de x(t+dt) - x(t)\n",
    "    return dx/dt, t[:-1] # dérivée (x(t+dt) - x(t)) / dt\n",
    "\n",
    "def norme(x,y):\n",
    "    \"\"\"calcule la norme d'un vecteur (x,y)\"\"\"\n",
    "    return # À compléter\n",
    "\n",
    "#########################\n",
    "# IMPORTATION DES DONNÉES\n",
    "#########################\n",
    "filename = \"../tp/tp8/bille_glycerol.txt\"\n",
    "data     = np.loadtxt(filename, skiprows=1)\n",
    "temps_pos = data[:,0]\n",
    "pos_x     = data[:,1]\n",
    "pos_y     = -data[:,3]\n",
    "\n",
    "vit_y, temps_vit = deriv(pos_y,temps_pos)\n",
    "\n",
    "\n",
    "############\n",
    "# AJUSTEMENT\n",
    "############\n",
    "fitter = fitting.Fit(\"exponential_offset\", x=temps_vit, y=vit_y)\n",
    "manualguess_params = [.1, -1/0.25, .02]\n",
    "fit_params, ufit_params = fitter.fit(manualguess_params=manualguess_params, verbosemode=False)\n",
    "vit_fit = fitter.func(temps_vit, *fit_params)\n",
    "\n",
    "##########################\n",
    "# REPRÉSENTATION GRAPHIQUE\n",
    "##########################\n",
    "vit_y, temps_vit = deriv(pos_y,temps_pos)\n",
    "plt.plot(temps_vit, vit_y*1e3, \"o\", label=\"Mesures\")\n",
    "plt.xlabel(\"Temps (s)\")\n",
    "plt.ylabel(\"Vitesse $y$ (mm/s)\")\n",
    "plt.title(\"Chute d'une bille dans le glycérol\")\n",
    "plt.xlim(0,1.75)\n",
    "plt.ylim(0,120)\n",
    "if True: # AJUSTEMENT\n",
    "    plt.plot(temps_vit, vit_fit*1e3, label=\"Ajustement\")\n",
    "if True: # TANGENTE\n",
    "    a = 1e3/fit_params[1]\n",
    "    b = (fit_params[0] + fit_params[2]) * 1e3\n",
    "    plt.plot(temps_vit, a*temps_vit + b, \"--\", label=\"$\\\\tau \\\\approx${:.2f} s\".format(-1/fit_params[1]))\n",
    "if True: # ASYMPTOTE\n",
    "    vinf = fit_params[2]*1e3\n",
    "    plt.plot([-1,2],[vinf,vinf], \"--\", label=\"$v_\\infty \\\\approx${:.0f} mm/s\".format(vinf))\n",
    "plt.legend()"
   ]
  },
  {
   "cell_type": "code",
   "execution_count": 24,
   "metadata": {},
   "outputs": [
    {
     "data": {
      "text/plain": [
       "['scale', 'alpha', 'y0']"
      ]
     },
     "execution_count": 24,
     "metadata": {},
     "output_type": "execute_result"
    }
   ],
   "source": [
    "fitter.params_key"
   ]
  },
  {
   "cell_type": "code",
   "execution_count": null,
   "metadata": {},
   "outputs": [],
   "source": []
  }
 ],
 "metadata": {
  "kernelspec": {
   "display_name": "Python 3",
   "language": "python",
   "name": "python3"
  },
  "language_info": {
   "codemirror_mode": {
    "name": "ipython",
    "version": 3
   },
   "file_extension": ".py",
   "mimetype": "text/x-python",
   "name": "python",
   "nbconvert_exporter": "python",
   "pygments_lexer": "ipython3",
   "version": "3.8.3"
  }
 },
 "nbformat": 4,
 "nbformat_minor": 4
}
