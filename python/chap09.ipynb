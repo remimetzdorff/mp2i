{
 "cells": [
  {
   "cell_type": "code",
   "execution_count": 2,
   "metadata": {},
   "outputs": [
    {
     "name": "stdout",
     "output_type": "stream",
     "text": [
      "Populating the interactive namespace from numpy and matplotlib\n"
     ]
    }
   ],
   "source": [
    "%pylab inline\n",
    "import scipy.constants as cst\n",
    "\n",
    "def mysavefig(filename):\n",
    "    plt.tight_layout()\n",
    "    plt.savefig(\"../images/chap9/\"+filename, bbox_inches=\"tight\", dpi=600)\n",
    "    return"
   ]
  },
  {
   "cell_type": "markdown",
   "metadata": {},
   "source": [
    "# Synchrotron SOLEIL"
   ]
  },
  {
   "cell_type": "code",
   "execution_count": 37,
   "metadata": {},
   "outputs": [
    {
     "name": "stdout",
     "output_type": "stream",
     "text": [
      "Vitesse classique : 3.1e+10 m/s\n"
     ]
    }
   ],
   "source": [
    "energy = 2.75e9 * cst.e\n",
    "mass   = cst.m_e\n",
    "\n",
    "speed_nonrel = np.sqrt(2*energy/mass)\n",
    "print(\"Vitesse classique : {:.1e} m/s\".format(speed_nonrel))"
   ]
  },
  {
   "cell_type": "code",
   "execution_count": 38,
   "metadata": {},
   "outputs": [
    {
     "name": "stdout",
     "output_type": "stream",
     "text": [
      "Rapport v/c : 104\n"
     ]
    }
   ],
   "source": [
    "print(\"Rapport v/c : {:.0f}\".format(speed_nonrel/cst.c))"
   ]
  },
  {
   "cell_type": "code",
   "execution_count": 39,
   "metadata": {},
   "outputs": [
    {
     "name": "stdout",
     "output_type": "stream",
     "text": [
      "Vitesse relativiste : 3.0e+08 m/s\n",
      "Rapport v/c : 99.999998274 %\n"
     ]
    }
   ],
   "source": [
    "speed_rel = cst.c * np.sqrt(1 - (mass*cst.c**2/(energy + mass*cst.c**2))**2)\n",
    "print(\"Vitesse relativiste : {:.1e} m/s\".format(speed_rel))\n",
    "print(\"Rapport v/c : {:.9f} %\".format(100*speed_rel/cst.c))"
   ]
  },
  {
   "cell_type": "code",
   "execution_count": 24,
   "metadata": {},
   "outputs": [
    {
     "data": {
      "text/plain": [
       "2.750000005917062"
      ]
     },
     "execution_count": 24,
     "metadata": {},
     "output_type": "execute_result"
    }
   ],
   "source": [
    "v = speed_rel\n",
    "mass*cst.c**2*(1 / np.sqrt(1-v**2/cst.c**2) - 1) / cst.e/1e9"
   ]
  },
  {
   "cell_type": "code",
   "execution_count": 48,
   "metadata": {},
   "outputs": [
    {
     "name": "stderr",
     "output_type": "stream",
     "text": [
      "<ipython-input-48-8aae5a6212f0>:2: RuntimeWarning: divide by zero encountered in true_divide\n",
      "  return 1 / np.sqrt(1 - (v/cst.c)**2)\n"
     ]
    },
    {
     "data": {
      "text/plain": [
       "Text(0.5, 0, 'Rapport $v/c$')"
      ]
     },
     "execution_count": 48,
     "metadata": {},
     "output_type": "execute_result"
    },
    {
     "data": {
      "image/png": "[encoded data removed]",
      "text/plain": [
       "<Figure size 432x288 with 1 Axes>"
      ]
     },
     "metadata": {
      "needs_background": "light"
     },
     "output_type": "display_data"
    }
   ],
   "source": [
    "def lorentz_factor(v):\n",
    "    return 1 / np.sqrt(1 - (v/cst.c)**2)\n",
    "\n",
    "v = np.linspace(0, cst.c,1000)\n",
    "plt.plot(v/cst.c, lorentz_factor(v))\n",
    "plt.ylim(0,10)\n",
    "plt.ylabel(\"Facteur de Lorentz\")\n",
    "plt.xlabel(\"Rapport $v/c$\")"
   ]
  },
  {
   "cell_type": "code",
   "execution_count": null,
   "metadata": {},
   "outputs": [],
   "source": []
  }
 ],
 "metadata": {
  "kernelspec": {
   "display_name": "Python 3",
   "language": "python",
   "name": "python3"
  },
  "language_info": {
   "codemirror_mode": {
    "name": "ipython",
    "version": 3
   },
   "file_extension": ".py",
   "mimetype": "text/x-python",
   "name": "python",
   "nbconvert_exporter": "python",
   "pygments_lexer": "ipython3",
   "version": "3.8.3"
  }
 },
 "nbformat": 4,
 "nbformat_minor": 4
}
