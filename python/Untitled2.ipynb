{
 "cells": [
  {
   "cell_type": "code",
   "execution_count": 8,
   "metadata": {},
   "outputs": [
    {
     "name": "stdout",
     "output_type": "stream",
     "text": [
      "Populating the interactive namespace from numpy and matplotlib\n"
     ]
    }
   ],
   "source": [
    "%pylab qt\n",
    "from scipy import signal"
   ]
  },
  {
   "cell_type": "code",
   "execution_count": 20,
   "metadata": {},
   "outputs": [
    {
     "name": "stderr",
     "output_type": "stream",
     "text": [
      "<ipython-input-20-bc7f72232db3>:18: ComplexWarning: Casting complex values to real discards the imaginary part\n",
      "  window_amp[i] = np.mean(amp[start:stop])\n"
     ]
    },
    {
     "data": {
      "text/plain": [
       "[<matplotlib.lines.Line2D at 0x7fca8db4af70>]"
      ]
     },
     "execution_count": 20,
     "metadata": {},
     "output_type": "execute_result"
    }
   ],
   "source": [
    "t = np.linspace(0,10,10001)\n",
    "\n",
    "tau   = 1\n",
    "freq  = 50\n",
    "omega = 2*np.pi*freq\n",
    "phi   = 0\n",
    "\n",
    "s = np.exp(-t/tau) * np.cos(omega*t + phi)\n",
    "\n",
    "def complex_amplitude(s, t, f0, N=5):\n",
    "    amp_re = s * np.cos(2*np.pi*f0 * t)\n",
    "    amp_im = s * np.sin(2*np.pi*f0 * t)\n",
    "    amp = amp_re + 1j * amp_im\n",
    "    window_amp = np.zeros(len(t))\n",
    "    for i in range(len(t)):\n",
    "        start = max(0,i-N)\n",
    "        stop  = min(len(t)-1,i+N)\n",
    "        window_amp[i] = np.mean(amp[start:stop])\n",
    "    return window_amp\n",
    "\n",
    "plt.figure()\n",
    "plt.semilogy(t, np.abs(complex_amplitude(s,t,50,N=10)))"
   ]
  },
  {
   "cell_type": "code",
   "execution_count": 21,
   "metadata": {},
   "outputs": [],
   "source": [
    "g = 10\n",
    "T = 4.5\n",
    "l = T**2/4/np.pi**2*g"
   ]
  },
  {
   "cell_type": "code",
   "execution_count": 22,
   "metadata": {},
   "outputs": [
    {
     "data": {
      "text/plain": [
       "5.129384921893349"
      ]
     },
     "execution_count": 22,
     "metadata": {},
     "output_type": "execute_result"
    }
   ],
   "source": [
    "l"
   ]
  },
  {
   "cell_type": "code",
   "execution_count": null,
   "metadata": {},
   "outputs": [],
   "source": []
  }
 ],
 "metadata": {
  "kernelspec": {
   "display_name": "Python 3",
   "language": "python",
   "name": "python3"
  },
  "language_info": {
   "codemirror_mode": {
    "name": "ipython",
    "version": 3
   },
   "file_extension": ".py",
   "mimetype": "text/x-python",
   "name": "python",
   "nbconvert_exporter": "python",
   "pygments_lexer": "ipython3",
   "version": "3.8.3"
  }
 },
 "nbformat": 4,
 "nbformat_minor": 4
}
