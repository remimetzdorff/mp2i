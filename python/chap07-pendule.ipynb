{
 "cells": [
  {
   "cell_type": "markdown",
   "metadata": {},
   "source": [
    "# Étude du pendule simple\n",
    "\n",
    "Taper les valeurs mesurées avec un \".\" comme séparateur décimal  \n",
    "https://answergarden.ch/"
   ]
  },
  {
   "cell_type": "code",
   "execution_count": 25,
   "metadata": {},
   "outputs": [
    {
     "name": "stdout",
     "output_type": "stream",
     "text": [
      "Populating the interactive namespace from numpy and matplotlib\n"
     ]
    }
   ],
   "source": [
    "%pylab inline\n",
    "import astropy.constants as csts"
   ]
  },
  {
   "cell_type": "markdown",
   "metadata": {},
   "source": [
    "## Mesures"
   ]
  },
  {
   "cell_type": "code",
   "execution_count": 54,
   "metadata": {},
   "outputs": [],
   "source": [
    "# Mesures de 10 périodes\n",
    "# 12.75,11.97,13.03,12.57,12.97,12.42,13.58,12.83,12.7,12.68,12.51,12.53,11.78,13.25,16,12.50,10.53,12,78,12.90,14.11,13.32,13.65,13.5,12.02,12,86,13.4,14,14.15,12.31,12.79,1.336,12,75,12.38,1.320,12.78,11.8,12.2,12.88,11.45,12.46,11.31,1.323,12.91,11.49,12.71,12.67,12.76,6.66,11.7,1.34,12.44,12.03,11.84,13.39,12.73,11.88,12.9,\n",
    "mesures = np.array([12.75,11.97,13.03,12.57,12.97,12.42,13.58,12.83,12.7,12.68,12.51,12.53,11.78,13.25,16,12.50,10.53,12.78,12.90,14.11,13.32,13.65,13.5,12.02,12.86,13.4,14,14.15,12.31,12.79,13.36,12.75,12.38,13.20,12.78,11.8,12.2,12.88,11.45,12.46,11.31,13.23,12.91,11.49,12.71,12.67,12.76,6.66,11.7,13.4,12.44,12.03,11.84,13.39,12.73,11.88,12.9,])\n",
    "T = mesures/10\n",
    "\n",
    "# Mesure de la longueur du pendule en mètres\n",
    "l = 0.43"
   ]
  },
  {
   "cell_type": "code",
   "execution_count": 55,
   "metadata": {},
   "outputs": [
    {
     "data": {
      "text/plain": [
       "Text(0.5, 0, 'Période (s)')"
      ]
     },
     "execution_count": 55,
     "metadata": {},
     "output_type": "execute_result"
    },
    {
     "data": {
      "image/png": "[encoded data removed]",
      "text/plain": [
       "<Figure size 432x288 with 1 Axes>"
      ]
     },
     "metadata": {
      "needs_background": "light"
     },
     "output_type": "display_data"
    }
   ],
   "source": [
    "# Histogramme des valeurs\n",
    "plt.hist(T,bins=25)\n",
    "plt.xlabel(\"Période (s)\")"
   ]
  },
  {
   "cell_type": "code",
   "execution_count": 56,
   "metadata": {},
   "outputs": [
    {
     "name": "stdout",
     "output_type": "stream",
     "text": [
      "1.2732857142857144\n"
     ]
    },
    {
     "data": {
      "image/png": "[encoded data removed]",
      "text/plain": [
       "<Figure size 432x288 with 1 Axes>"
      ]
     },
     "metadata": {
      "needs_background": "light"
     },
     "output_type": "display_data"
    }
   ],
   "source": [
    "new_T = []\n",
    "for val in T:\n",
    "    if val< 4 and val>.8:\n",
    "        new_T.append(val)\n",
    "        \n",
    "plt.hist(new_T,bins=20)\n",
    "T = np.array(new_T)\n",
    "print(mean(T))"
   ]
  },
  {
   "cell_type": "markdown",
   "metadata": {},
   "source": [
    "## Mesure de l'accélération de la pesanteur $g$ "
   ]
  },
  {
   "cell_type": "code",
   "execution_count": 57,
   "metadata": {},
   "outputs": [
    {
     "name": "stdout",
     "output_type": "stream",
     "text": [
      "Valeur de g : 10.60 m / s2\n",
      "Référence   : 9.81 m / s2\n"
     ]
    }
   ],
   "source": [
    "# Valeur\n",
    "g = 4*(np.pi**2)*l/T**2\n",
    "\n",
    "val_g = np.mean(g)\n",
    "\n",
    "print(\"Valeur de g : {:.2f} m / s2\".format(val_g))\n",
    "print(\"Référence   : {:.2f}\".format(csts.g0))"
   ]
  },
  {
   "cell_type": "code",
   "execution_count": 58,
   "metadata": {},
   "outputs": [
    {
     "name": "stdout",
     "output_type": "stream",
     "text": [
      "Écart-type expérimental    : 1.37 m / s2\n",
      "Incertitude-type de type A : 0.18 m / s2\n"
     ]
    }
   ],
   "source": [
    "# Incertitude-type de type A\n",
    "\n",
    "ecarttype_exp = np.std(g, ddof=1)\n",
    "uA_g = ecarttype_exp / np.sqrt(len(g))\n",
    "print(\"Écart-type expérimental    : {:.2f} m / s2\".format(ecarttype_exp))\n",
    "print(\"Incertitude-type de type A : {:.2f} m / s2\".format(uA_g))"
   ]
  },
  {
   "cell_type": "markdown",
   "metadata": {},
   "source": [
    "## Pesée de la Terre"
   ]
  },
  {
   "cell_type": "code",
   "execution_count": 59,
   "metadata": {},
   "outputs": [
    {
     "name": "stdout",
     "output_type": "stream",
     "text": [
      "Masse de la Terre          : 6.46e+24 kg\n",
      "Incertitude-type de type A : 1.12e+23 kg\n",
      "Référence                  : 5.97e+24 kg\n"
     ]
    }
   ],
   "source": [
    "M = 4*np.pi**2*l*csts.R_earth.value**2/csts.G.value/T**2\n",
    "\n",
    "val_M = np.mean(M)\n",
    "uA_M  = np.std(M, ddof=1) / np.sqrt(len(M))\n",
    "\n",
    "print(\"Masse de la Terre          : {:.2e} kg\".format(val_M))\n",
    "print(\"Incertitude-type de type A : {:.2e} kg\".format(uA_M))\n",
    "print(\"Référence                  : {:.2e}\".format(csts.M_earth))"
   ]
  },
  {
   "cell_type": "code",
   "execution_count": null,
   "metadata": {},
   "outputs": [],
   "source": []
  }
 ],
 "metadata": {
  "kernelspec": {
   "display_name": "Python 3",
   "language": "python",
   "name": "python3"
  },
  "language_info": {
   "codemirror_mode": {
    "name": "ipython",
    "version": 3
   },
   "file_extension": ".py",
   "mimetype": "text/x-python",
   "name": "python",
   "nbconvert_exporter": "python",
   "pygments_lexer": "ipython3",
   "version": "3.8.3"
  }
 },
 "nbformat": 4,
 "nbformat_minor": 4
}
