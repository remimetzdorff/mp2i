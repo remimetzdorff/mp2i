{
 "cells": [
  {
   "cell_type": "code",
   "execution_count": 1,
   "metadata": {},
   "outputs": [
    {
     "name": "stdout",
     "output_type": "stream",
     "text": [
      "Populating the interactive namespace from numpy and matplotlib\n"
     ]
    }
   ],
   "source": [
    "%pylab inline\n",
    "\n",
    "import pandas\n",
    "\n",
    "file_folder = \"../classe/\"\n",
    "filename    = file_folder + \"tp_grille_notation.xlsx\"\n",
    "\n",
    "def appreciation_to_note(mark):\n",
    "    if mark == \"A\":        # A tous les points\n",
    "        val = 1\n",
    "    elif mark == \"B\":      # B trois quarts des points\n",
    "        val = .75\n",
    "    elif mark == \"C\":      # C la moitié des points\n",
    "        val = .5\n",
    "    elif mark == \"D\":      # D un quart des points\n",
    "        val = .25\n",
    "    elif mark == \"0\":      # pas de points\n",
    "        val = 0\n",
    "    return val\n",
    "\n",
    "def note_to_appreciation(val):\n",
    "    if val == 0:\n",
    "        mark = \"0\"\n",
    "    elif val <= .25:\n",
    "        mark = \"D\"\n",
    "    elif val <= .5:\n",
    "        mark = \"C\"\n",
    "    elif val <= .75:\n",
    "        mark = \"B\"\n",
    "    elif val <= 1:\n",
    "        mark = \"A\"\n",
    "    else:\n",
    "        mark = \" \"\n",
    "    return mark"
   ]
  },
  {
   "cell_type": "code",
   "execution_count": 65,
   "metadata": {},
   "outputs": [
    {
     "name": "stdout",
     "output_type": "stream",
     "text": [
      "Groupe   /20   APP   ANA   REA   VAL   COM   RCO  AUTO\n",
      "------------------------------------------------------\n",
      " 1     11.67  1.50  2.50  4.25  2.25  2.50  0.00  1.00\n",
      "                 B     B     B     C     B           C\n",
      "------------------------------------------------------\n",
      " 2     13.12  2.00  2.00  5.50  1.25  3.00  0.00  2.00\n",
      "                 A     C     A     D     B           A\n",
      "------------------------------------------------------\n",
      " 3     12.08  1.50  2.25  3.75  2.50  3.00  0.00  1.50\n",
      "                 B     B     B     C     B           B\n",
      "------------------------------------------------------\n",
      " 4     13.33  1.75  2.50  4.50  2.25  3.50  0.00  1.50\n",
      "                 A     B     B     C     A           B\n",
      "------------------------------------------------------\n",
      " 5     13.12  2.00  2.50  5.50  1.25  3.00  0.00  1.50\n",
      "                 A     B     A     D     B           B\n",
      "------------------------------------------------------\n",
      " 6     11.88  1.50  2.75  4.25  1.50  2.75  0.00  1.50\n",
      "                 B     B     B     C     B           B\n",
      "------------------------------------------------------\n",
      " 7     13.54  1.75  3.25  4.75  2.75  2.25  0.00  1.50\n",
      "                 A     A     B     B     B           B\n",
      "------------------------------------------------------\n",
      " 8     10.42  1.50  2.00  4.25  1.25  2.50  0.00  1.00\n",
      "                 B     C     B     D     B           C\n",
      "------------------------------------------------------\n",
      " 9     13.96  1.75  2.75  5.50  1.75  3.00  0.00  2.00\n",
      "                 A     B     A     C     B           A\n",
      "------------------------------------------------------\n",
      "10     15.00  1.75  3.75  5.50  2.00  3.00  0.00  2.00\n",
      "                 A     A     A     C     B           A\n",
      "------------------------------------------------------\n",
      "11     14.79  1.75  3.75  5.00  1.75  3.50  0.00  2.00\n",
      "                 A     A     B     C     A           A\n",
      "------------------------------------------------------\n",
      "12      8.54  0.75  1.00  3.75  1.75  2.00  0.00  1.00\n",
      "                 C     D     B     C     C           C\n",
      "------------------------------------------------------\n",
      "13     11.25  1.50  1.75  4.75  1.75  2.75  0.00  1.00\n",
      "                 B     C     B     C     B           C\n",
      "------------------------------------------------------\n",
      "14     13.96  1.75  3.00  5.50  2.25  2.75  0.00  1.50\n",
      "                 A     B     A     C     B           B\n",
      "------------------------------------------------------\n",
      "15     17.71  2.00  3.75  7.00  2.75  3.75  0.00  2.00\n",
      "                 A     A     A     B     A           A\n",
      "------------------------------------------------------\n",
      "16     14.58  1.75  4.00  4.75  2.25  3.25  0.00  1.50\n",
      "                 A     A     B     C     A           B\n",
      "------------------------------------------------------\n",
      "17     10.00  0.50  1.50  4.50  1.50  3.00  0.00  1.00\n",
      "                 D     C     B     C     B           C\n",
      "------------------------------------------------------\n",
      "18     13.96  1.75  3.25  5.00  2.50  2.75  0.00  1.50\n",
      "                 A     A     B     C     B           B\n",
      "------------------------------------------------------\n",
      "19     13.12  2.00  3.50  3.75  1.75  3.25  0.00  1.50\n",
      "                 A     A     B     C     A           B\n",
      "------------------------------------------------------\n",
      "20     16.67  1.75  3.75  6.00  3.75  3.25  0.00  1.50\n",
      "                 A     A     A     B     A           B\n",
      "------------------------------------------------------\n",
      "21     15.62  2.00  3.50  6.00  2.25  3.00  0.00  2.00\n",
      "                 A     A     A     C     B           A\n",
      "------------------------------------------------------\n",
      "22     15.83  2.00  3.25  6.00  2.75  3.00  0.00  2.00\n",
      "                 A     A     A     B     B           A\n",
      "------------------------------------------------------\n",
      "23     15.42  1.75  3.25  6.00  3.25  2.75  0.00  1.50\n",
      "                 A     A     A     B     B           B\n"
     ]
    },
    {
     "name": "stderr",
     "output_type": "stream",
     "text": [
      "<ipython-input-65-9ef9108ebfff>:41: RuntimeWarning: invalid value encountered in true_divide\n",
      "  c = [note_to_appreciation(val) for val in note_cptce/bareme_cptce]\n",
      "<ipython-input-65-9ef9108ebfff>:47: RuntimeWarning: invalid value encountered in double_scalars\n",
      "  result_cptce += \"     {}\".format(note_to_appreciation(val/bar))\n"
     ]
    }
   ],
   "source": [
    "tp       = \"tp6\"     # CHOIX DU TP\n",
    "n_groupe = 23        # nombre de groupes\n",
    "\n",
    "df = pandas.read_excel(filename, sheet_name=tp, header=2)\n",
    "df = df.fillna(\"0\")\n",
    "\n",
    "competences = []     # Liste des compétences évaluées (plusieurs items par compétence possibles)\n",
    "for cptce in np.ndarray.astype(np.array(df[\"Compétence\"]), str):\n",
    "    if cptce == \"0\":\n",
    "        competences.append(competences[-1])\n",
    "    else:\n",
    "        competences.append(cptce)\n",
    "cptces = set(competences) # Liste des compétences\n",
    "\n",
    "bareme = np.ndarray.astype(np.array(df[\"Barême\"]), int) # barême par item\n",
    "print(\"Groupe   /20   APP   ANA   REA   VAL   COM   RCO  AUTO\")\n",
    "for i in range(n_groupe):\n",
    "    appreciations = np.ndarray.astype(np.array(df[i+1]), str) # A, B, C, D ou 0 pour chaque item\n",
    "    note = []\n",
    "    for j, appreciation in enumerate(appreciations):\n",
    "        note.append(appreciation_to_note(appreciation) * bareme[j])\n",
    "    note = np.array(note)\n",
    "    \n",
    "    note_cptce   = [] # note par competence\n",
    "    bareme_cptce = [] # bareme par compétence\n",
    "    for k in range(len(note)):\n",
    "        if len(note_cptce) == 0:\n",
    "            note_cptce.append(note[k])\n",
    "            bareme_cptce.append(bareme[k])\n",
    "        else:\n",
    "            if competences[k] == competences[k-1]:\n",
    "                note_cptce[-1]  += note[k]\n",
    "                bareme_cptce[-1]+= bareme[k]\n",
    "            else:\n",
    "                note_cptce.append(note[k])\n",
    "                bareme_cptce.append(bareme[k])\n",
    "    note_cptce = np.array(note_cptce)\n",
    "    bareme_cptce = np.array(bareme_cptce)\n",
    "    \n",
    "    x = sum(note)/sum(bareme) * 20 # note finale /20\n",
    "    c = [note_to_appreciation(val) for val in note_cptce/bareme_cptce]\n",
    "    \n",
    "    result = \"{:2.0f}     {:5.2f}\".format(i+1, x)\n",
    "    result_cptce = \"            \"\n",
    "    for val, bar in zip(note_cptce, bareme_cptce):\n",
    "        result += \"{:6.2f}\".format(val)\n",
    "        result_cptce += \"     {}\".format(note_to_appreciation(val/bar))\n",
    "        \n",
    "    print(\"------------------------------------------------------\")\n",
    "    print(result)\n",
    "    print(result_cptce)"
   ]
  },
  {
   "cell_type": "code",
   "execution_count": 66,
   "metadata": {},
   "outputs": [
    {
     "data": {
      "text/plain": [
       "array([2, 4, 7, 5, 4, 0, 2])"
      ]
     },
     "execution_count": 66,
     "metadata": {},
     "output_type": "execute_result"
    }
   ],
   "source": [
    "bareme_cptce"
   ]
  },
  {
   "cell_type": "code",
   "execution_count": 83,
   "metadata": {},
   "outputs": [
    {
     "data": {
      "text/plain": [
       "0.5773502691896258"
      ]
     },
     "execution_count": 83,
     "metadata": {},
     "output_type": "execute_result"
    }
   ],
   "source": [
    "1/np.sqrt(3)"
   ]
  },
  {
   "cell_type": "code",
   "execution_count": 84,
   "metadata": {},
   "outputs": [
    {
     "data": {
      "text/plain": [
       "3.5714285714285716"
      ]
     },
     "execution_count": 84,
     "metadata": {},
     "output_type": "execute_result"
    }
   ],
   "source": [
    "25/7"
   ]
  },
  {
   "cell_type": "code",
   "execution_count": 85,
   "metadata": {},
   "outputs": [
    {
     "data": {
      "text/plain": [
       "3.3613445378151257"
      ]
     },
     "execution_count": 85,
     "metadata": {},
     "output_type": "execute_result"
    }
   ],
   "source": [
    "120/35.7"
   ]
  },
  {
   "cell_type": "code",
   "execution_count": 86,
   "metadata": {},
   "outputs": [
    {
     "data": {
      "text/plain": [
       "0.3333333333333333"
      ]
     },
     "execution_count": 86,
     "metadata": {},
     "output_type": "execute_result"
    }
   ],
   "source": [
    "0.03/.09\n"
   ]
  },
  {
   "cell_type": "code",
   "execution_count": 87,
   "metadata": {},
   "outputs": [
    {
     "data": {
      "text/plain": [
       "3.3333333333333335"
      ]
     },
     "execution_count": 87,
     "metadata": {},
     "output_type": "execute_result"
    }
   ],
   "source": [
    "120/36"
   ]
  },
  {
   "cell_type": "code",
   "execution_count": null,
   "metadata": {},
   "outputs": [],
   "source": [
    "C\n",
    "A\n",
    "A\n",
    "A\n",
    "A\n",
    "A\n",
    "C\n",
    "B\n",
    "C\n",
    "A\n",
    "A\n",
    "A"
   ]
  }
 ],
 "metadata": {
  "kernelspec": {
   "display_name": "Python 3",
   "language": "python",
   "name": "python3"
  },
  "language_info": {
   "codemirror_mode": {
    "name": "ipython",
    "version": 3
   },
   "file_extension": ".py",
   "mimetype": "text/x-python",
   "name": "python",
   "nbconvert_exporter": "python",
   "pygments_lexer": "ipython3",
   "version": "3.8.3"
  }
 },
 "nbformat": 4,
 "nbformat_minor": 4
}
