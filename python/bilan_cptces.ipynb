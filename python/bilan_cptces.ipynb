{
 "cells": [
  {
   "cell_type": "code",
   "execution_count": 1,
   "metadata": {},
   "outputs": [
    {
     "name": "stdout",
     "output_type": "stream",
     "text": [
      "Populating the interactive namespace from numpy and matplotlib\n"
     ]
    }
   ],
   "source": [
    "%pylab inline\n",
    "from teaching.bilan_cptces import result_eval, gather_results, bilan_pupil, make_bilan_cptces"
   ]
  },
  {
   "cell_type": "code",
   "execution_count": 81,
   "metadata": {},
   "outputs": [
    {
     "name": "stdout",
     "output_type": "stream",
     "text": [
      "eta : 29\n",
      "tau : 51\n"
     ]
    }
   ],
   "source": [
    "def stat(n_nonanswered, points):\n",
    "    N = 67\n",
    "    n_done = N - n_nonanswered\n",
    "    print(\"eta : {:.0f}\".format(points/n_done * 100))\n",
    "    print(\"tau : {:.0f}\".format(n_done/N*100))\n",
    "    return\n",
    "\n",
    "stat(33,10)"
   ]
  },
  {
   "cell_type": "code",
   "execution_count": 92,
   "metadata": {},
   "outputs": [
    {
     "name": "stdout",
     "output_type": "stream",
     "text": [
      "#################################################\n",
      "NOM                PRÉNOM         NOTE CLASSEMENT\n",
      "#################################################\n",
      "ABDOURAHMAN        Gad            11.6          4\n",
      "AHMANE             Amar           15.2          1\n",
      "BEKKARI            Salah-Eddine   ***** ABSENT **\n",
      "BELLANGER          Maxence         7.0         15\n",
      "BENSIDHOUM         Nicolas         3.6         37\n",
      "BERLUREAU          Pierre-Gabriel 10.0          7\n",
      "BOUSSAID BENCHAARA Rodaina         3.9         35\n",
      "CAPUANO            Matteo          6.6         19\n",
      "CHEAV              Khemra         ***** ABSENT **\n",
      "CHEBBI             Emir            1.5         43\n",
      "CICEK              Hakan           8.4         11\n",
      "COLLET             Nathan          6.6         19\n",
      "CORTEEL            Blandine        9.4          9\n",
      "DALLA CORTE        Gabriel        11.9          3\n",
      "DELFOUR            Matteo         10.0          7\n",
      "EL SISI            Célina          4.9         26\n",
      "ELMENSHAWY         Shemseddine     5.4         24\n",
      "FERAUD             Arthur          4.6         27\n",
      "FERNANDEZ          Gabriel         4.6         27\n",
      "FRASQUE-COUPEZ     Corentin        5.4         24\n",
      "FRESNAY            Ethan           4.5         30\n",
      "GHESQUIERE         Lucie          ***** ABSENT **\n",
      "GONTARA            Mohamed-Ali     3.7         36\n",
      "GRIGY              Yanis          10.4          5\n",
      "HAMLILI            Maryam          2.4         41\n",
      "KAGHOUCHE          Adib            4.5         30\n",
      "KAMIONKA           Maxence         5.8         22\n",
      "LALIOUI            Yannis          1.2         44\n",
      "LEYDOUR            Léo             8.2         12\n",
      "LIN                David           6.3         21\n",
      "MALONGO            Cyrille         4.0         33\n",
      "MARCHAL            Louis          14.0          2\n",
      "MARION             Vincent         9.0         10\n",
      "MOREL              Adrien         10.1          6\n",
      "NELET              Jean-Edmond     4.6         27\n",
      "NGADJOU            Jérémy          7.0         15\n",
      "OURLIAC            Paul            7.0         15\n",
      "PERAUD             Arthur          2.7         40\n",
      "PERRIN-EMERAUD     Armand          7.9         13\n",
      "TAVARES            Lucas          ***** ABSENT **\n",
      "TEZEMPA CHOUNGFAK  Sylvain        ***** ABSENT **\n",
      "THEVENET           Louis           4.3         32\n",
      "THIRARD            Aguirre         7.9         13\n",
      "THOMAS             Mathéo          7.0         15\n",
      "VLAS               Iulian          5.5         23\n",
      "ZABIEGO            Hugo            4.0         33\n",
      "ZHANG              Dominique       3.0         39\n",
      "ZIA                Ahmed           2.2         42\n",
      "ZIANE              Younès          3.6         37\n",
      "#################################################\n",
      "PRÉSENTS   : 44\n",
      "ABSENTS    :  5\n",
      "MOYENNE    :  6.40\n",
      "ÉCART TYPE :  3.22\n",
      "#################################################\n"
     ]
    },
    {
     "data": {
      "image/png": "[encoded data removed]",
      "text/plain": [
       "<Figure size 432x288 with 1 Axes>"
      ]
     },
     "metadata": {
      "needs_background": "light"
     },
     "output_type": "display_data"
    }
   ],
   "source": [
    "# Pour le bilan d'une évaluation\n",
    "\n",
    "result = result_eval(\"ds3\", display=True)"
   ]
  },
  {
   "cell_type": "code",
   "execution_count": 148,
   "metadata": {},
   "outputs": [],
   "source": [
    "import numpy as np\n",
    "import matplotlib.pyplot as plt\n",
    "import pandas as pd\n",
    "\n",
    "folder = \"/Users/remimetzdorff/Documents/GitHub/enseignements/2021-2022_cpge_paul_valery_paris/classe/\"\n",
    "\n",
    "class eleve():\n",
    "    def __init__(self, name):\n",
    "        self.df        = pd.read_excel(folder+\"eleve.xlsx\", sheet_name=\"eleve\",index_col=\"Nom\")\n",
    "        self.name      = name\n",
    "        self.firstname = self.df.loc[self.name].Prénom\n",
    "        self.num       = self.df.loc[self.name].Num \n",
    "        return\n",
    "    \n",
    "    def _eval_cptce(self,eval_type,n):\n",
    "        \"\"\"Mets à jour les résultats d'un élève sur une évaluation par compétence\"\"\"\n",
    "        if eval_type not in [\"ds\", \"dm\", \"tp\"]:\n",
    "            print(\"Unknwon eval_type\")\n",
    "            return\n",
    "        filename = eval_type+\".xlsx\"\n",
    "        \n",
    "        self.dfeval = pd.read_excel(folder+filename, sheet_name=eval_type+str(n),index_col=\"Nom\", header=1)\n",
    "        self.dfeval = self.dfeval.fillna(0)\n",
    "        barem = self.dfeval.iloc[0]\n",
    "        self.barem_app = barem.loc[\"APP\"]\n",
    "        self.barem_ana = barem.loc[\"ANA\"]\n",
    "        self.barem_rea = barem.loc[\"REA\"]\n",
    "        self.barem_val = barem.loc[\"VAL\"]\n",
    "        self.barem_com = barem.loc[\"COM\"]\n",
    "        self.barem_rco = barem.loc[\"RCO\"]\n",
    "        self.barem_auto = barem.loc[\"AUTO\"]\n",
    "        self.barem_tot = self.barem_app + self.barem_ana + self.barem_rea + self.barem_val + self.barem_com + self.barem_rco + self.barem_auto\n",
    "        \n",
    "        result = self.dfeval.loc[self.name]\n",
    "        if result.loc[\"Abs\"] == \"Abs\":\n",
    "            self.abs = True\n",
    "        else:\n",
    "            self.abs = False\n",
    "        self.app = result.loc[\"APP\"]\n",
    "        self.ana = result.loc[\"ANA\"]\n",
    "        self.rea = result.loc[\"REA\"]\n",
    "        self.val = result.loc[\"VAL\"]\n",
    "        self.com = result.loc[\"COM\"]\n",
    "        self.rco = result.loc[\"RCO\"]\n",
    "        self.auto = result.loc[\"AUTO\"]\n",
    "        self.tot = self.app + self.ana + self.rea + self.val + self.com + self.rco + self.auto\n",
    "        \n",
    "        self.note = self.tot / self.barem_tot * self.barem_final\n",
    "        return\n",
    "    \n",
    "    def _eval_(self,eval_type,n):\n",
    "        \"\"\"Mets à jour les résultats d'un élève sur une évaluation standard\"\"\"\n",
    "        if eval_type not in [\"interro\", \"colle\"]:\n",
    "            print(\"Unknwon eval_type\")\n",
    "            return\n",
    "        filename = eval_type+\".xlsx\"\n",
    "        self.dfeval = pd.read_excel(folder+filename, sheet_name=eval_type,index_col=\"Nom\", header=1)\n",
    "        self.dfeval = self.dfeval.fillna(0)\n",
    "        barem = self.dfeval.iloc[0]\n",
    "        return\n",
    "    \n",
    "    def ds(self,n):\n",
    "        self.barem_final = 20\n",
    "        self._eval_cptce(\"ds\",n)\n",
    "        return\n",
    "    \n",
    "    def dm(self,n):\n",
    "        self.barem_final = 20\n",
    "        self._eval_cptce(\"dm\",n)\n",
    "        return\n",
    "    \n",
    "    def tp(self,n):\n",
    "        self.barem_final = 20\n",
    "        self._eval_cptce(\"tp\",n)\n",
    "        return\n",
    "    \n",
    "    def interro(self,n):\n",
    "        self.barem_final = 10\n",
    "        self._eval_cptce(\"interro\",n)\n",
    "        return\n",
    "    \n",
    "    def colle(self,n):\n",
    "        self.barem_final = 20\n",
    "        self._eval_cptce(\"colle\",n)\n",
    "        return\n",
    "\n",
    "class classe():\n",
    "    def __init__(self):\n",
    "        self.df = pd.read_excel(folder+\"eleve.xlsx\", sheet_name=\"eleve\",index_col=\"Nom\")\n",
    "        self.pupils = self.df.index\n",
    "        return\n",
    "    \n",
    "    def results_eval_cptce(self, eval_type, n):\n",
    "        self.app, self.ana, self.rea, self.val, self.com, self.rco, self.auto = [], [], [], [], [], [], []\n",
    "        for name in self.pupils:\n",
    "            pupil = eleve(name)\n",
    "            getattr(pupil, eval_type)(n)\n",
    "            if not pupil.abs:\n",
    "                self.app.append(pupil.app)\n",
    "                self.ana.append(pupil.ana)\n",
    "                self.rea.append(pupil.rea)\n",
    "                self.val.append(pupil.val)\n",
    "                self.com.append(pupil.com)\n",
    "                self.rco.append(pupil.rco)\n",
    "                self.auto.append(pupil.auto)\n",
    "        self.app = np.array(self.app)\n",
    "        self.ana = np.array(self.ana)\n",
    "        self.rea = np.array(self.rea)\n",
    "        self.val = np.array(self.val)\n",
    "        self.com = np.array(self.com)\n",
    "        self.rco = np.array(self.rco)\n",
    "        self.auto = np.array(self.auto)\n",
    "        self.tot = self.app + self.ana + self.rea + self.val + self.com + self.rco + self.auto\n",
    "                \n",
    "        self.barem_app = pupil.barem_app\n",
    "        self.barem_ana = pupil.barem_ana\n",
    "        self.barem_rea = pupil.barem_rea\n",
    "        self.barem_val = pupil.barem_val\n",
    "        self.barem_com = pupil.barem_com\n",
    "        self.barem_rco = pupil.barem_rco\n",
    "        self.barem_auto = pupil.barem_auto\n",
    "        self.barem_tot = pupil.barem_tot\n",
    "        self.barem_final = pupil.barem_final\n",
    "        \n",
    "        self.note = self.tot / self.barem_tot * self.barem_final\n",
    "        return\n",
    "    \n",
    "    def moyenne(eval_type, n):\n",
    "        self.results_eval_cptce(eval_type, n)\n",
    "        return self.note.mean()\n",
    "        \n",
    "class evaluation():\n",
    "    def __init__(self, eval_type, n):\n",
    "        self.eval_type = eval_type\n",
    "        self.n = n\n",
    "        self.name = eval_type+str(n)\n",
    "        self.classe = classe()\n",
    "        self.classe.results_eval_cptce(self.eval_type, self.n)\n",
    "    \n",
    "    @property\n",
    "    def note(self):\n",
    "        \"moyenne de la classe sur cette évaluation\"\n",
    "        return self.classe.note.mean()\n",
    "    \n",
    "    @property\n",
    "    def app(self):\n",
    "        \"taux de réussite moyen de la compétence APP\"\n",
    "        return self.classe.app.mean() / self.classe.barem_app\n",
    "    @property\n",
    "    def ana(self):\n",
    "        \"taux de réussite moyen de la compétence ANA\"\n",
    "        return self.classe.ana.mean() / self.classe.barem_ana\n",
    "    @property\n",
    "    def rea(self):\n",
    "        \"taux de réussite moyen de la compétence REA\"\n",
    "        return self.classe.rea.mean() / self.classe.barem_rea\n",
    "    @property\n",
    "    def val(self):\n",
    "        \"taux de réussite moyen de la compétence VAL\"\n",
    "        return self.classe.val.mean() / self.classe.barem_val\n",
    "    @property\n",
    "    def com(self):\n",
    "        \"taux de réussite moyen de la compétence COM\"\n",
    "        return self.classe.com.mean() / self.classe.barem_com\n",
    "    @property\n",
    "    def rco(self):\n",
    "        \"taux de réussite moyen de la compétence RCO\"\n",
    "        return self.classe.rco.mean() / self.classe.barem_rco\n",
    "    @property\n",
    "    def auto(self):\n",
    "        \"taux de réussite moyen de la compétence AUTO\"\n",
    "        return self.classe.auto.mean() / self.classe.barem_auto\n",
    "        \n",
    "mp2i = classe()\n",
    "ds1 = evaluation(\"ds\",1)\n",
    "ds2 = evaluation(\"ds\",2)\n",
    "\n",
    "# Ça commence à ressembler à quelque chose\n",
    "# Traiter le cas des colles et des interro qui ne sont pas par compétence\n",
    "# Faire le bilan :\n",
    "#    - par élève, sur un DS avec les diagrammes radars\n",
    "#    - par élève, sur une série d'évaluations pour avoir la moyenne par type d'avluation et la progression\n",
    "#    - pour la classe sur une série de DS\n",
    "#    - distinguer les élèves spé SI et PC"
   ]
  },
  {
   "cell_type": "code",
   "execution_count": 151,
   "metadata": {},
   "outputs": [
    {
     "data": {
      "text/plain": [
       "9.590361445783133"
      ]
     },
     "execution_count": 151,
     "metadata": {},
     "output_type": "execute_result"
    }
   ],
   "source": [
    "ds2.note"
   ]
  },
  {
   "cell_type": "code",
   "execution_count": 5,
   "metadata": {
    "scrolled": false
   },
   "outputs": [
    {
     "data": {
      "image/png": "[encoded data removed]",
      "text/plain": [
       "<Figure size 432x288 with 1 Axes>"
      ]
     },
     "metadata": {
      "needs_background": "light"
     },
     "output_type": "display_data"
    }
   ],
   "source": [
    "x = []\n",
    "\n",
    "N = 13\n",
    "\n",
    "for n in range(1,N+1):\n",
    "    result = result_eval(\"interro{:g}\".format(n), display=False)\n",
    "    x.append(result[0][\"moy_classe\"][\"total\"] / result[0][\"barem\"][\"total\"] * 10)\n",
    "    note, p = [], 0\n",
    "    for r in result:\n",
    "        if not r[\"eval\"][\"Abs\"]:\n",
    "            note.append(r[\"note\"][\"total\"] / result[0][\"barem\"][\"total\"] * 10)\n",
    "            p += 1\n",
    "    #plt.plot(np.ones(p)*n, note, \"oC0\", alpha=.1)\n",
    "    \n",
    "n = arange(1,N+1)\n",
    "plt.plot(n, x, \"o-\")\n",
    "plt.ylim(0,10)\n",
    "plt.xlabel(\"interro\")\n",
    "plt.ylabel(\"moyenne de la classe (/10)\")\n",
    "\n",
    "a,b,c,d,e,f = np.polyfit(n,x,5)\n",
    "plt.plot(n, a*n**5 + b*n**4 +c*n**3 + d*n**2 + e*n + f)\n",
    "\n",
    "plt.savefig(\"interro_period_1.png\",dpi=300)"
   ]
  },
  {
   "cell_type": "code",
   "execution_count": 4,
   "metadata": {
    "scrolled": true
   },
   "outputs": [
    {
     "name": "stderr",
     "output_type": "stream",
     "text": [
      "/Users/remimetzdorff/opt/anaconda3/lib/python3.8/site-packages/numpy/core/fromnumeric.py:3334: RuntimeWarning: Mean of empty slice.\n",
      "  return _methods._mean(a, axis=axis, dtype=dtype,\n",
      "/Users/remimetzdorff/opt/anaconda3/lib/python3.8/site-packages/numpy/core/_methods.py:161: RuntimeWarning: invalid value encountered in double_scalars\n",
      "  ret = ret.dtype.type(ret / rcount)\n"
     ]
    },
    {
     "data": {
      "text/plain": [
       "'temp.tex'"
      ]
     },
     "execution_count": 4,
     "metadata": {},
     "output_type": "execute_result"
    }
   ],
   "source": [
    "# Pour le bilan par élève sur une période donnée\n",
    "\n",
    "ds = []\n",
    "tp = []\n",
    "colle = []\n",
    "interro = [\"interro1\", \"interro2\", \"interro3\"]\n",
    "\n",
    "evaluations = ds+tp+colle+interro\n",
    "make_bilan_cptces(evaluations,remake_images=False)"
   ]
  },
  {
   "cell_type": "code",
   "execution_count": 62,
   "metadata": {},
   "outputs": [
    {
     "name": "stdout",
     "output_type": "stream",
     "text": [
      "10.927896103896105\n"
     ]
    }
   ],
   "source": [
    "notes_interro = [6.66,7.48,4.43,4.86,4.89,4.07]\n",
    "barem_interro = [9,10,8,9,9,10]\n",
    "\n",
    "coeff_colle   = 2\n",
    "coeff_interro = .5\n",
    "coeff_dm      = .25\n",
    "coeff_tp      = 1\n",
    "coeff_ds      = 5\n",
    "\n",
    "moy_colle     = 12.5\n",
    "moy_interro   = np.mean(notes_interro)/np.mean(barem_interro) * 20\n",
    "moy_dm        = 12\n",
    "moy_tp        = 14.23\n",
    "moy_ds        = 9.5\n",
    "\n",
    "moy = (coeff_colle*moy_colle + coeff_interro*moy_interro + coeff_dm*moy_dm + coeff_tp*moy_tp + coeff_ds*moy_ds) / (coeff_colle+coeff_interro+coeff_dm+coeff_tp+coeff_ds)\n",
    "print(moy)"
   ]
  },
  {
   "cell_type": "code",
   "execution_count": 161,
   "metadata": {},
   "outputs": [],
   "source": [
    "u = np.zeros(N)\n",
    "for k in range(N):\n",
    "    u[k]"
   ]
  },
  {
   "cell_type": "code",
   "execution_count": 90,
   "metadata": {},
   "outputs": [
    {
     "data": {
      "text/plain": [
       "9.024"
      ]
     },
     "execution_count": 90,
     "metadata": {},
     "output_type": "execute_result"
    }
   ],
   "source": [
    "6.4*1.41"
   ]
  },
  {
   "cell_type": "code",
   "execution_count": null,
   "metadata": {},
   "outputs": [],
   "source": []
  }
 ],
 "metadata": {
  "kernelspec": {
   "display_name": "Python 3",
   "language": "python",
   "name": "python3"
  },
  "language_info": {
   "codemirror_mode": {
    "name": "ipython",
    "version": 3
   },
   "file_extension": ".py",
   "mimetype": "text/x-python",
   "name": "python",
   "nbconvert_exporter": "python",
   "pygments_lexer": "ipython3",
   "version": "3.8.3"
  }
 },
 "nbformat": 4,
 "nbformat_minor": 4
}
