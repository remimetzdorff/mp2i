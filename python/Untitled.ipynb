{
 "cells": [
  {
   "cell_type": "code",
   "execution_count": 2,
   "metadata": {},
   "outputs": [
    {
     "name": "stdout",
     "output_type": "stream",
     "text": [
      "Populating the interactive namespace from numpy and matplotlib\n"
     ]
    }
   ],
   "source": [
    "%pylab inline"
   ]
  },
  {
   "cell_type": "code",
   "execution_count": 138,
   "metadata": {},
   "outputs": [],
   "source": [
    "import numpy as np\n",
    "import matplotlib.pyplot as plt\n",
    "from scipy.integrate import odeint\n",
    "import matplotlib.animation as animation\n",
    "\n",
    "#############################\n",
    "# PARAMÈTRES DE LA SIMULATION\n",
    "#############################\n",
    "g = 9.81             # accélération de la pesanteur\n",
    "l0 = 1              # longueur à vide du ressort\n",
    "k = 10               # constante de raiseur du ressort\n",
    "m = .2               # masse du point matériel\n",
    "a = .1               # coefficient de frottement (linéaire)\n",
    "leq = l0 + m * g / k # calcul de la position d'équilibre\n",
    "duration = 60        # durée de la simulation\n",
    "fps      = 25        #\n",
    "\n",
    "# CONDITIONS INITIALES\n",
    "V0 = [leq, 0, 1.01*np.pi, 0]\n",
    "\n",
    "##########\n",
    "# ÉNERGIES\n",
    "##########\n",
    "def energy_ressort(r):\n",
    "    return 0.5 * k * (r-l0) ** 2\n",
    "def energy_pesanteur(r, theta):\n",
    "    z = - r * np.cos(theta) + leq\n",
    "    return  m * g * z\n",
    "def energy_cinetique(r, dr, dtheta):\n",
    "    v_squared = ( dr**2 + (r*dtheta)**2 )\n",
    "    return 0.5 * m * v_squared\n",
    "def energy_mecanique(r,dr,theta, dtheta):\n",
    "    return energy_cinetique(r,dr,dtheta) + energy_pesanteur(r,theta) + energy_ressort(r)\n",
    "\n",
    "######################\n",
    "# RÉSOLUTION NUMÉRIQUE\n",
    "######################\n",
    "def pendule_ressort(V,t):\n",
    "    \"\"\"Équations différentielles associées au problème\"\"\"\n",
    "    r, dr, theta, dtheta = V\n",
    "    ddr = r * dtheta**2 + g*np.cos(theta) - k / m * (r-l0) - a * dr\n",
    "    ddtheta = (- g * np.sin(theta) - 2 * dr * dtheta) / r - a * r*dtheta\n",
    "    return [dr, ddr, dtheta, ddtheta]\n",
    "\n",
    "t = np.linspace(0,duration,duration*fps*1)\n",
    "V = odeint(pendule_ressort, V0, t)\n",
    "r = V[:,0]\n",
    "dr = V[:,1]\n",
    "theta = V[:,2]\n",
    "dtheta = V[:,3]\n",
    "x = r * np.sin(theta)\n",
    "z = -r * np.cos(theta)\n",
    "\n",
    "############################\n",
    "# REPRÉSENTATIONS GRAPHIQUES\n",
    "############################\n",
    "fig = plt.figure(figsize=(12,5))\n",
    "sps = (3,2)\n",
    "ax1 = plt.subplot2grid(sps,(0,0))\n",
    "ax2 = plt.subplot2grid(sps,(1,0))\n",
    "ax3 = plt.subplot2grid(sps,(2,0))\n",
    "ax4 = plt.subplot2grid(sps,(0,1), rowspan=3, colspan=1)\n",
    "# Longueur du ressort r\n",
    "ax1.plot(t,r,\"C0\")\n",
    "ax1.set_ylabel(\"$r$ (m)\")\n",
    "ax1.set_xticklabels([])\n",
    "# Angle theta\n",
    "ax2.plot(t,theta,\"C1\")\n",
    "ax2.set_ylabel(\"$\\\\theta$ (rad)\")\n",
    "ax2.set_xticklabels([])\n",
    "# Énergie\n",
    "ax3.plot(t, energy_ressort(r), \"C2\", label=\"${\\cal E}_H$\", alpha=.5)\n",
    "ax3.plot(t, energy_pesanteur(r, theta), \"C3\", label=\"${\\cal E}_p$\", alpha=.5)\n",
    "ax3.plot(t, energy_cinetique(r,dr,dtheta), \"C4\", label=\"${\\cal E}_c$\", alpha=.5)\n",
    "ax3.plot(t, energy_mecanique(r, dr,theta, dtheta), \"k\", label=\"${\\cal E}_m$\", alpha=.5)\n",
    "ax3.legend(loc=\"right\")\n",
    "ax3.set_xlabel(\"Temps $t$ (s)\")\n",
    "ax3.set_ylabel(\"Énergie (J)\")\n",
    "# Trajectoire\n",
    "ax4.set_aspect(\"equal\")\n",
    "ax4.set_xlim(1.5*min(x), 1.5*max(x))\n",
    "ax4.set_ylim(1.5*min(z), max(1.5*max(z),.5))\n",
    "ax4.set_xticks([])\n",
    "ax4.set_yticks([])\n",
    "ax4.set_xlabel(\"$x$\")\n",
    "ax4.set_ylabel(\"$z$\")\n",
    "ax4.set_title(\"Pendule élastique\")\n",
    "plt.tight_layout()\n",
    "\n",
    "###########\n",
    "# ANIMATION\n",
    "###########\n",
    "t = np.linspace(0,duration,duration*fps)\n",
    "V = odeint(pendule_ressort, V0, t)\n",
    "r = V[:,0]\n",
    "dr = V[:,1]\n",
    "theta = V[:,2]\n",
    "dtheta = V[:,3]\n",
    "x = r * np.sin(theta)\n",
    "z = -r * np.cos(theta)\n",
    "\n",
    "r_anim,      = ax1.plot([], [], \"oC0\")\n",
    "theta_anim,  = ax2.plot([], [], \"oC1\")\n",
    "E_meca,      = ax3.plot([], [], \"ok\")\n",
    "E_cine,      = ax3.plot([], [], \"oC4\")\n",
    "E_ress,      = ax3.plot([], [], \"oC2\")\n",
    "E_pesa,      = ax3.plot([], [], \"oC3\")\n",
    "oscillateur, = ax4.plot([], [], \"o-k\")\n",
    "trajectory,  = ax4.plot([], [], \"C0\", alpha=.5)\n",
    "\n",
    "def animate(i):\n",
    "    oscillateur.set_data([0,x[i]], [0,z[i]])\n",
    "    trajectory.set_data(x[:i], z[:i])\n",
    "    E_meca.set_data(t[i],energy_mecanique(r[i],dr[i],theta[i],dtheta[i]))\n",
    "    E_cine.set_data(t[i],energy_cinetique(r[i],dr[i],dtheta[i]))\n",
    "    E_ress.set_data(t[i],energy_ressort(r[i]))\n",
    "    E_pesa.set_data(t[i],energy_pesanteur(r[i],theta[i]))\n",
    "    r_anim.set_data(t[i],r[i])\n",
    "    theta_anim.set_data(t[i], theta[i])\n",
    "    return oscillateur, \n",
    "\n",
    "ani = animation.FuncAnimation(fig, animate, frames=len(x)-1, interval=1e3/fps)"
   ]
  },
  {
   "cell_type": "code",
   "execution_count": 5,
   "metadata": {},
   "outputs": [
    {
     "data": {
      "text/plain": [
       "[<matplotlib.lines.Line2D at 0x7fa59058f0d0>]"
      ]
     },
     "execution_count": 5,
     "metadata": {},
     "output_type": "execute_result"
    },
    {
     "data": {
      "image/png": "[encoded data removed]",
      "text/plain": [
       "<Figure size 432x288 with 1 Axes>"
      ]
     },
     "metadata": {
      "needs_background": "light"
     },
     "output_type": "display_data"
    }
   ],
   "source": [
    "x = np.linspace(-2,2)\n",
    "plt.plot(x, x**2)\n",
    "plt.plot(x, (x-1)**2)\n",
    "plt.plot(x, x+ x**2)"
   ]
  },
  {
   "cell_type": "code",
   "execution_count": null,
   "metadata": {},
   "outputs": [],
   "source": []
  }
 ],
 "metadata": {
  "kernelspec": {
   "display_name": "Python 3",
   "language": "python",
   "name": "python3"
  },
  "language_info": {
   "codemirror_mode": {
    "name": "ipython",
    "version": 3
   },
   "file_extension": ".py",
   "mimetype": "text/x-python",
   "name": "python",
   "nbconvert_exporter": "python",
   "pygments_lexer": "ipython3",
   "version": "3.8.3"
  }
 },
 "nbformat": 4,
 "nbformat_minor": 4
}
