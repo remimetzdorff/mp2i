{
 "cells": [
  {
   "cell_type": "code",
   "execution_count": 1,
   "metadata": {},
   "outputs": [
    {
     "name": "stdout",
     "output_type": "stream",
     "text": [
      "Populating the interactive namespace from numpy and matplotlib\n"
     ]
    }
   ],
   "source": [
    "%pylab qt\n",
    "from scipy.integrate import odeint\n",
    "import pandas"
   ]
  },
  {
   "cell_type": "markdown",
   "metadata": {},
   "source": [
    "# Estimation de l'incertitude sur un ajustement linéaire"
   ]
  },
  {
   "cell_type": "code",
   "execution_count": 66,
   "metadata": {},
   "outputs": [
    {
     "data": {
      "text/plain": [
       "(-0.01, 0.13)"
      ]
     },
     "execution_count": 66,
     "metadata": {},
     "output_type": "execute_result"
    }
   ],
   "source": [
    "# Données\n",
    "g = 9.81\n",
    "m = np.array([10,20,50,100,150,200,250,300,350,400])*1e-3\n",
    "delta_m = 20e-3 # imprécision sur la mesure de m (kg)\n",
    "l = np.array([0,5,13,26,39,55,67,84,100,110])*1e-3\n",
    "delta_l = 5e-3 # imprecision sur la mesure de T (s)\n",
    "\n",
    "plt.xlabel(\"Masse (kg)\")\n",
    "plt.ylabel(\"Alongement (m)\")\n",
    "plt.title(\"Vérification de la loi de Hooke\")\n",
    "plt.plot(m,l,\"oC0\")\n",
    "plt.xlim(-.05,.45)\n",
    "plt.ylim(-.01,.13)"
   ]
  },
  {
   "cell_type": "code",
   "execution_count": 67,
   "metadata": {},
   "outputs": [
    {
     "data": {
      "text/plain": [
       "<ErrorbarContainer object of 3 artists>"
      ]
     },
     "execution_count": 67,
     "metadata": {},
     "output_type": "execute_result"
    }
   ],
   "source": [
    "plt.errorbar(m, l, xerr=delta_m, yerr=delta_l, fmt=\"o\",capsize=2)"
   ]
  },
  {
   "cell_type": "code",
   "execution_count": 68,
   "metadata": {},
   "outputs": [
    {
     "name": "stdout",
     "output_type": "stream",
     "text": [
      "coefficient directeur : 0.28 m/kg\n"
     ]
    }
   ],
   "source": [
    "a, b = np.polyfit(m,l,1)\n",
    "plt.plot(m,a*m+b, \"C0\")\n",
    "print(\"coefficient directeur : {:.2f} m/kg\".format(a))"
   ]
  },
  {
   "cell_type": "code",
   "execution_count": 69,
   "metadata": {},
   "outputs": [
    {
     "data": {
      "text/plain": [
       "[<matplotlib.lines.Line2D at 0x7fab69ba0490>]"
      ]
     },
     "execution_count": 69,
     "metadata": {},
     "output_type": "execute_result"
    }
   ],
   "source": [
    "alpha = .5\n",
    "m_sim = m + np.random.uniform(-delta_m,delta_m,len(m))\n",
    "l_sim = l + np.random.uniform(-delta_l,delta_l,len(l))\n",
    "plt.plot(m_sim,l_sim,\".k\", alpha=alpha)"
   ]
  },
  {
   "cell_type": "code",
   "execution_count": 70,
   "metadata": {},
   "outputs": [],
   "source": [
    "N = 5\n",
    "for n in range(N):\n",
    "    m_sim = m + np.random.uniform(-delta_m,delta_m,len(m))\n",
    "    l_sim = l + np.random.uniform(-delta_l,delta_l,len(l))\n",
    "    plt.plot(m_sim,l_sim,\".k\", alpha=alpha/np.sqrt(N))"
   ]
  },
  {
   "cell_type": "code",
   "execution_count": 71,
   "metadata": {},
   "outputs": [],
   "source": [
    "N = 100\n",
    "for n in range(N):\n",
    "    m_sim = m + np.random.uniform(-delta_m,delta_m,len(m))\n",
    "    l_sim = l + np.random.uniform(-delta_l,delta_l,len(l))\n",
    "    plt.plot(m_sim,l_sim,\".k\", alpha=alpha/np.sqrt(N))"
   ]
  },
  {
   "cell_type": "code",
   "execution_count": 72,
   "metadata": {},
   "outputs": [],
   "source": [
    "N = 1000\n",
    "for n in range(N):\n",
    "    m_sim = m + np.random.uniform(-delta_m,delta_m,len(m))\n",
    "    l_sim = l + np.random.uniform(-delta_l,delta_l,len(l))\n",
    "    plt.plot(m_sim,l_sim,\".k\", alpha=alpha/np.sqrt(N))"
   ]
  },
  {
   "cell_type": "code",
   "execution_count": 73,
   "metadata": {},
   "outputs": [],
   "source": [
    "tab_a, tab_b = [], []\n",
    "for n in range(N):\n",
    "    m_sim = m + np.random.uniform(-delta_m,delta_m,len(m))\n",
    "    l_sim = l + np.random.uniform(-delta_l,delta_l,len(l))\n",
    "    a, b = np.polyfit(m_sim,l_sim,1)\n",
    "    tab_a.append(a) # coefficient directeur\n",
    "    tab_b.append(b) # ordonnée à l'origine\n",
    "    plt.plot(m_sim,a*m_sim+b, \"k\", alpha=alpha/100)"
   ]
  },
  {
   "cell_type": "code",
   "execution_count": 74,
   "metadata": {},
   "outputs": [
    {
     "name": "stdout",
     "output_type": "stream",
     "text": [
      "coefficient directeur : 0.28 m/kg\n",
      "incertitude type      : 0.01 m/kg\n"
     ]
    }
   ],
   "source": [
    "a, b = np.mean(tab_a), np.mean(tab_b)\n",
    "plt.plot(m,a*m+b, \"white\")\n",
    "print(\"coefficient directeur : {:.2f} m/kg\".format(a))\n",
    "print(\"incertitude type      : {:.2f} m/kg\".format(np.std(tab_a)))"
   ]
  },
  {
   "cell_type": "markdown",
   "metadata": {},
   "source": [
    "# Préparation"
   ]
  },
  {
   "cell_type": "code",
   "execution_count": 4,
   "metadata": {},
   "outputs": [
    {
     "name": "stdout",
     "output_type": "stream",
     "text": [
      "34.572796558161734 0.3427363962527853\n"
     ]
    },
    {
     "data": {
      "image/png": "[encoded data removed]",
      "text/plain": [
       "<Figure size 432x288 with 1 Axes>"
      ]
     },
     "metadata": {
      "needs_background": "light"
     },
     "output_type": "display_data"
    }
   ],
   "source": [
    "# Mesure statique\n",
    "g = 9.81\n",
    "m = np.array([10,20,50,100,150,200,250,300,350,400])*1e-3\n",
    "l = np.array([0,5,13,26,39,55,67,84,100,110])*1e-3\n",
    "\n",
    "tab_a, tab_b = [], []\n",
    "for n in range(10000):\n",
    "    delta_m = 1e-3\n",
    "    delta_l = 2e-3\n",
    "    \n",
    "    m_sim = m + np.random.uniform(-delta_m,delta_m,len(m))\n",
    "    l_sim = l + np.random.uniform(-delta_l,delta_l,len(l))\n",
    "    a, b = np.polyfit(m_sim,l_sim,1)\n",
    "    tab_a.append(a)\n",
    "    tab_b.append(b)\n",
    "\n",
    "a = mean(tab_a)\n",
    "b = mean(tab_b)\n",
    "plt.plot(m,l,\"o\")\n",
    "plt.plot(m,a*m+b)\n",
    "\n",
    "k = g/np.array(tab_a)\n",
    "print(mean(k), np.std(k))"
   ]
  },
  {
   "cell_type": "code",
   "execution_count": 2,
   "metadata": {},
   "outputs": [
    {
     "ename": "NameError",
     "evalue": "name 'np' is not defined",
     "output_type": "error",
     "traceback": [
      "\u001b[0;31m---------------------------------------------------------------------------\u001b[0m",
      "\u001b[0;31mNameError\u001b[0m                                 Traceback (most recent call last)",
      "\u001b[0;32m<ipython-input-2-aff44826bffd>\u001b[0m in \u001b[0;36m<module>\u001b[0;34m\u001b[0m\n\u001b[1;32m      7\u001b[0m \u001b[0mdelta_m\u001b[0m \u001b[0;34m=\u001b[0m \u001b[0;36m.1e-3\u001b[0m\u001b[0;34m\u001b[0m\u001b[0;34m\u001b[0m\u001b[0m\n\u001b[1;32m      8\u001b[0m \u001b[0;34m\u001b[0m\u001b[0m\n\u001b[0;32m----> 9\u001b[0;31m \u001b[0mT_sim\u001b[0m \u001b[0;34m=\u001b[0m \u001b[0mT\u001b[0m \u001b[0;34m+\u001b[0m \u001b[0mnp\u001b[0m\u001b[0;34m.\u001b[0m\u001b[0mrandom\u001b[0m\u001b[0;34m.\u001b[0m\u001b[0muniform\u001b[0m\u001b[0;34m(\u001b[0m\u001b[0;34m-\u001b[0m\u001b[0mdelta_T\u001b[0m\u001b[0;34m,\u001b[0m\u001b[0mdelta_T\u001b[0m\u001b[0;34m,\u001b[0m\u001b[0;36m10000\u001b[0m\u001b[0;34m)\u001b[0m\u001b[0;34m\u001b[0m\u001b[0;34m\u001b[0m\u001b[0m\n\u001b[0m\u001b[1;32m     10\u001b[0m \u001b[0mm_sim\u001b[0m \u001b[0;34m=\u001b[0m \u001b[0mm\u001b[0m \u001b[0;34m+\u001b[0m \u001b[0mnp\u001b[0m\u001b[0;34m.\u001b[0m\u001b[0mrandom\u001b[0m\u001b[0;34m.\u001b[0m\u001b[0muniform\u001b[0m\u001b[0;34m(\u001b[0m\u001b[0;34m-\u001b[0m\u001b[0mdelta_m\u001b[0m\u001b[0;34m,\u001b[0m\u001b[0mdelta_m\u001b[0m\u001b[0;34m,\u001b[0m\u001b[0;36m10000\u001b[0m\u001b[0;34m)\u001b[0m\u001b[0;34m\u001b[0m\u001b[0;34m\u001b[0m\u001b[0m\n\u001b[1;32m     11\u001b[0m \u001b[0mk\u001b[0m \u001b[0;34m=\u001b[0m \u001b[0;36m4\u001b[0m \u001b[0;34m*\u001b[0m \u001b[0mnp\u001b[0m\u001b[0;34m.\u001b[0m\u001b[0mpi\u001b[0m\u001b[0;34m**\u001b[0m\u001b[0;36m2\u001b[0m \u001b[0;34m/\u001b[0m \u001b[0mT_sim\u001b[0m\u001b[0;34m**\u001b[0m\u001b[0;36m2\u001b[0m \u001b[0;34m*\u001b[0m \u001b[0mm_sim\u001b[0m\u001b[0;34m\u001b[0m\u001b[0;34m\u001b[0m\u001b[0m\n",
      "\u001b[0;31mNameError\u001b[0m: name 'np' is not defined"
     ]
    }
   ],
   "source": [
    "# Mesure dynamique\n",
    "\n",
    "# Mesure 1\n",
    "T = 0.39 \n",
    "delta_T = 0.1/7\n",
    "m = 125.2*1e-3\n",
    "delta_m = .1e-3\n",
    "\n",
    "T_sim = T + np.random.uniform(-delta_T,delta_T,10000)\n",
    "m_sim = m + np.random.uniform(-delta_m,delta_m,10000)\n",
    "k = 4 * np.pi**2 / T_sim**2 * m_sim\n",
    "print(mean(k),std(k))\n",
    "\n",
    "# Mesure 2\n",
    "T = 1.82/3\n",
    "delta_T = 0.1/3\n",
    "m = (125.2 + 200)*1e-3\n",
    "delta_m = .1e-3\n",
    "\n",
    "T_sim = T + np.random.uniform(-delta_T,delta_T,10000)\n",
    "m_sim = m + np.random.uniform(-delta_m,delta_m,10000)\n",
    "k = 4 * np.pi**2 / T_sim**2 * m_sim\n",
    "\n",
    "print(mean(k),std(k))"
   ]
  },
  {
   "cell_type": "markdown",
   "metadata": {},
   "source": [
    "# Acquisition masse ressort"
   ]
  },
  {
   "cell_type": "code",
   "execution_count": 93,
   "metadata": {},
   "outputs": [
    {
     "data": {
      "text/plain": [
       "<matplotlib.legend.Legend at 0x7f7fa1d3c1f0>"
      ]
     },
     "execution_count": 93,
     "metadata": {},
     "output_type": "execute_result"
    }
   ],
   "source": [
    "folder = \"../tp/tp10/\"\n",
    "filename = folder + \"masse_ressort.xls\"\n",
    "df = pandas.read_excel(filename, sheet_name=\"Raw Data\")\n",
    "\n",
    "t = df[\"Time (s)\"]\n",
    "y = df[\"Acceleration y (m/s^2)\"]\n",
    "\n",
    "plt.clf()\n",
    "plt.plot(t,y-np.mean(y), lw=.1, label=\"Mesures\")\n",
    "#plt.plot(t, 5*np.exp(-t/220))\n",
    "\n",
    "def oscillateur_lin(V,t):\n",
    "    omega0 = 2*np.pi/.5251\n",
    "    Q = 500\n",
    "    x, v = V\n",
    "    dx = v\n",
    "    dv = -omega0**2 * x - omega0/Q*v\n",
    "    return [dx,dv]\n",
    "\n",
    "def oscillateur_quad(V,t):\n",
    "    omega0 = 2*np.pi/.5251\n",
    "    Q = 3150\n",
    "    a = .0003\n",
    "    x, v = V\n",
    "    dx = v\n",
    "    dv = -omega0**2 * x - omega0/Q*v - a * np.sign(v) * v**2\n",
    "    return [dx,dv]\n",
    "\n",
    "V0 = [8.1,0]\n",
    "V = odeint(oscillateur_lin,V0,t)\n",
    "z = V[:,0]\n",
    "plt.plot(t,z,lw=.1, label=\"Sim (f lin)\")\n",
    "\n",
    "V = odeint(oscillateur_quad,V0,t)\n",
    "z = V[:,0]\n",
    "plt.plot(t,z,lw=.1, label=\"Sim (f quad)\")\n",
    "\n",
    "plt.xlabel(\"Temps (s)\")\n",
    "plt.ylabel(\"Accélération ($\\mathrm{m \\cdot s^{-2} }$)\")\n",
    "plt.title(\"Évolution libre d'un système masse ressort\")\n",
    "plt.legend()"
   ]
  },
  {
   "cell_type": "code",
   "execution_count": 33,
   "metadata": {},
   "outputs": [],
   "source": [
    "a = .0038\n",
    "b = .00028"
   ]
  },
  {
   "cell_type": "code",
   "execution_count": 59,
   "metadata": {},
   "outputs": [
    {
     "data": {
      "text/plain": [
       "3148.8665352863045"
      ]
     },
     "execution_count": 59,
     "metadata": {},
     "output_type": "execute_result"
    }
   ],
   "source": [
    "2*np.pi/.5251 / 0.0038"
   ]
  },
  {
   "cell_type": "code",
   "execution_count": null,
   "metadata": {},
   "outputs": [],
   "source": []
  }
 ],
 "metadata": {
  "kernelspec": {
   "display_name": "Python 3",
   "language": "python",
   "name": "python3"
  },
  "language_info": {
   "codemirror_mode": {
    "name": "ipython",
    "version": 3
   },
   "file_extension": ".py",
   "mimetype": "text/x-python",
   "name": "python",
   "nbconvert_exporter": "python",
   "pygments_lexer": "ipython3",
   "version": "3.8.3"
  }
 },
 "nbformat": 4,
 "nbformat_minor": 4
}
