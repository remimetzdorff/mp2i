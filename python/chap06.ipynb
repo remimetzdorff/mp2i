{
 "cells": [
  {
   "cell_type": "code",
   "execution_count": 2,
   "metadata": {},
   "outputs": [
    {
     "name": "stdout",
     "output_type": "stream",
     "text": [
      "Populating the interactive namespace from numpy and matplotlib\n"
     ]
    }
   ],
   "source": [
    "%pylab qt\n",
    "from scipy.integrate import odeint\n",
    "\n",
    "def mysavefig(filename):\n",
    "    plt.tight_layout()\n",
    "    plt.savefig(\"../images/chap6/\"+filename, bbox_inches=\"tight\", dpi=600)\n",
    "    return"
   ]
  },
  {
   "cell_type": "code",
   "execution_count": 5,
   "metadata": {},
   "outputs": [
    {
     "name": "stdout",
     "output_type": "stream",
     "text": [
      "22.308216249011718\n"
     ]
    },
    {
     "data": {
      "text/plain": [
       "<matplotlib.legend.Legend at 0x7fccd86c28e0>"
      ]
     },
     "execution_count": 5,
     "metadata": {},
     "output_type": "execute_result"
    }
   ],
   "source": [
    "########################\n",
    "# PARAMÈTRES DU PROBLÈME\n",
    "########################\n",
    "v0 = 14   # Vitesse du lancé en m.s^-1\n",
    "g = 9.81  # Accélération de pesanteur en m.s^-2\n",
    "h = 2.6   # Hauteur de libération du poids en m\n",
    "a = 45 * np.pi / 180 # Angle du lancer en rad\n",
    "t = np.linspace(0,5,1000) # Temps en s\n",
    "\n",
    "#########################\n",
    "# EXPRESSIONS ANALYTIQUES\n",
    "#########################\n",
    "def x_ana(t):\n",
    "    \"\"\"Abscisse\"\"\"\n",
    "    return v0 * np.cos(a) * t\n",
    "def z_ana(t):\n",
    "    \"\"\"Altitude\"\"\"\n",
    "    return -g * t**2 / 2 + v0 * np.sin(a) * t + h\n",
    "# distance du lancer\n",
    "delta = (v0**2 * np.sin(a)**2 + 2 * g * h) / (v0**2 * np.cos(a)**2)\n",
    "d = (np.tan(a) + np.sqrt(delta)) * v0**2 * np.cos(a)**2/g\n",
    "print(d)\n",
    "\n",
    "V0 = [0, h, v0*np.cos(a), v0*np.sin(a)]\n",
    "def lancer_de_poids(V, t):\n",
    "    x, z, vx, vz = V\n",
    "    dvx = 0\n",
    "    dvz = -g\n",
    "    dx = vx\n",
    "    dz = vz\n",
    "    return [dx, dz, dvx, dvz]\n",
    "V = odeint(lancer_de_poids, V0, t)\n",
    "x_num = V[:,0]\n",
    "z_num = V[:,1]\n",
    "\n",
    "############################\n",
    "# REPRÉSENTATIONS GRAPHIQUES\n",
    "############################\n",
    "fig, ax = plt.subplots()\n",
    "plt.fill_between([0,25],-1,[0,0],color=\"k\",facecolor=\"k\", alpha=.5) # Le sol\n",
    "\n",
    "plt.plot(x_ana(t), z_ana(t), label=\"Analytique\")\n",
    "plt.plot(x_num, z_num, label=\"Numérique\")\n",
    "plt.plot([d], [0], \"o\")\n",
    "\n",
    "plt.xlim(0,25)\n",
    "plt.ylim(-1,10)\n",
    "ax.set_aspect(\"equal\")\n",
    "plt.xlabel(\"Distance (m)\")\n",
    "plt.ylabel(\"Altitude (m)\")\n",
    "plt.legend()"
   ]
  },
  {
   "cell_type": "code",
   "execution_count": 51,
   "metadata": {},
   "outputs": [
    {
     "data": {
      "text/plain": [
       "[<matplotlib.lines.Line2D at 0x7f9c38a87490>]"
      ]
     },
     "execution_count": 51,
     "metadata": {},
     "output_type": "execute_result"
    },
    {
     "data": {
      "image/png": "[encoded data removed]",
      "text/plain": [
       "<Figure size 432x288 with 1 Axes>"
      ]
     },
     "metadata": {
      "needs_background": "light"
     },
     "output_type": "display_data"
    }
   ],
   "source": [
    "# Exercice résolution de problème avion de chasse\n",
    "\n",
    "# Accélération maximale supportée\n",
    "# https://fr.wikipedia.org/wiki/G_(acc%C3%A9l%C3%A9ration)#Tol%C3%A9rance_du_corps_humain_selon_la_NASA\n",
    "a_max   = np.array([18,14,11,9,7,6,4.5,3.5])*9.81  # m.s^-2\n",
    "delta_t = np.array([0.6,1.8,6,18,60,180,600,1800]) # s\n",
    "\n",
    "v = 1.6 * 340\n",
    "def a(t):\n",
    "    \"\"\"accélération en fonction de la durée du demi-tour\"\"\"\n",
    "    return np.pi*v/t\n",
    "\n",
    "plt.loglog(delta_t, a_max)\n",
    "plt.plot(delta_t, a(delta_t))"
   ]
  },
  {
   "cell_type": "code",
   "execution_count": 12,
   "metadata": {},
   "outputs": [
    {
     "data": {
      "text/plain": [
       "[<matplotlib.lines.Line2D at 0x7ff7718a2df0>]"
      ]
     },
     "execution_count": 12,
     "metadata": {},
     "output_type": "execute_result"
    }
   ],
   "source": [
    "t = np.linspace(0,2,1000)\n",
    "plt.plot(t, np.cos(2*np.pi*t - 5*np.pi/6))"
   ]
  },
  {
   "cell_type": "code",
   "execution_count": null,
   "metadata": {},
   "outputs": [],
   "source": []
  }
 ],
 "metadata": {
  "kernelspec": {
   "display_name": "Python 3",
   "language": "python",
   "name": "python3"
  },
  "language_info": {
   "codemirror_mode": {
    "name": "ipython",
    "version": 3
   },
   "file_extension": ".py",
   "mimetype": "text/x-python",
   "name": "python",
   "nbconvert_exporter": "python",
   "pygments_lexer": "ipython3",
   "version": "3.8.3"
  }
 },
 "nbformat": 4,
 "nbformat_minor": 4
}
