{
 "cells": [
  {
   "cell_type": "code",
   "execution_count": 2,
   "metadata": {},
   "outputs": [
    {
     "name": "stdout",
     "output_type": "stream",
     "text": [
      "Populating the interactive namespace from numpy and matplotlib\n"
     ]
    }
   ],
   "source": [
    "%pylab inline"
   ]
  },
  {
   "cell_type": "code",
   "execution_count": 14,
   "metadata": {},
   "outputs": [],
   "source": [
    "def omega0(l, c):\n",
    "    return 1 / np.sqrt(l * c)\n",
    "\n",
    "def frequency(l, c):\n",
    "    return omega0(l, c) / 2 / np.pi\n",
    "    \n",
    "def period(l, c):\n",
    "    return 1 / frequency(l, c)\n",
    "\n",
    "def Q(r, l, c):\n",
    "    return 1 / r * np.sqrt(l / c)"
   ]
  },
  {
   "cell_type": "code",
   "execution_count": 20,
   "metadata": {},
   "outputs": [
    {
     "name": "stdout",
     "output_type": "stream",
     "text": [
      "f = 3351.93 Hz\n",
      "Q = 16.12\n",
      "3350.3184437588206\n"
     ]
    }
   ],
   "source": [
    "l = 45e-3\n",
    "c = 50.1e-9\n",
    "r = 58.78\n",
    "\n",
    "print(\"f = {:.2f} Hz\".format(frequency(l,c)))\n",
    "print(\"Q = {:.2f}\".format(Q(r,l,c)))\n",
    "print(omega0(l,c) * np.sqrt(1 - 1/4/Q(r,l,c)**2) / 2/np.pi)"
   ]
  },
  {
   "cell_type": "code",
   "execution_count": 27,
   "metadata": {},
   "outputs": [
    {
     "data": {
      "text/plain": [
       "13.409489835167575"
      ]
     },
     "execution_count": 27,
     "metadata": {},
     "output_type": "execute_result"
    }
   ],
   "source": [
    "T = 1/3.4e3\n",
    "x1 = 3.95\n",
    "x2 = 3.125\n",
    "delta = np.log(x1/x2)\n",
    "tau = T/delta\n",
    "tau * 2 * np.pi / T / 2"
   ]
  },
  {
   "cell_type": "code",
   "execution_count": 21,
   "metadata": {},
   "outputs": [
    {
     "data": {
      "text/plain": [
       "126.401190600658"
      ]
     },
     "execution_count": 21,
     "metadata": {},
     "output_type": "execute_result"
    }
   ],
   "source": [
    "29.3 / np.log(4.35/3.45)"
   ]
  },
  {
   "cell_type": "code",
   "execution_count": 22,
   "metadata": {},
   "outputs": [
    {
     "data": {
      "text/plain": [
       "2.334267040149393e-06"
      ]
     },
     "execution_count": 22,
     "metadata": {},
     "output_type": "execute_result"
    }
   ],
   "source": [
    "1/3400 / 126"
   ]
  },
  {
   "cell_type": "code",
   "execution_count": 23,
   "metadata": {},
   "outputs": [
    {
     "data": {
      "text/plain": [
       "0.024535832916721546"
      ]
     },
     "execution_count": 23,
     "metadata": {},
     "output_type": "execute_result"
    }
   ],
   "source": [
    "2.33e-6 * omega0(l,c)/2"
   ]
  },
  {
   "cell_type": "code",
   "execution_count": 12,
   "metadata": {},
   "outputs": [
    {
     "data": {
      "text/plain": [
       "(-0.0005, 0.005)"
      ]
     },
     "execution_count": 12,
     "metadata": {},
     "output_type": "execute_result"
    },
    {
     "data": {
      "image/png": "[encoded data removed]",
      "text/plain": [
       "<Figure size 432x288 with 1 Axes>"
      ]
     },
     "metadata": {
      "needs_background": "light"
     },
     "output_type": "display_data"
    }
   ],
   "source": [
    "folder = \"/Users/remimetzdorff/Documents/GitHub/enseignements/2021-2022_cpge_paul_valery_paris/tp/tp7/\"\n",
    "\n",
    "data = np.genfromtxt(folder+\"3.csv\", delimiter=',')\n",
    "t = data[2:,0]\n",
    "e = data[2:,1]\n",
    "u = data[2:,2]\n",
    "N = len(t)\n",
    "\n",
    "plt.plot(t,e)\n",
    "plt.plot(t,u)\n",
    "plt.xlim(-.0005, .005)"
   ]
  },
  {
   "cell_type": "code",
   "execution_count": 10,
   "metadata": {},
   "outputs": [
    {
     "data": {
      "text/plain": [
       "0.00013333333333333334"
      ]
     },
     "execution_count": 10,
     "metadata": {},
     "output_type": "execute_result"
    }
   ],
   "source": [
    ".001/7.5"
   ]
  },
  {
   "cell_type": "code",
   "execution_count": 11,
   "metadata": {},
   "outputs": [
    {
     "data": {
      "text/plain": [
       "7500.187504687618"
      ]
     },
     "execution_count": 11,
     "metadata": {},
     "output_type": "execute_result"
    }
   ],
   "source": [
    "1/0.00013333"
   ]
  },
  {
   "cell_type": "code",
   "execution_count": 55,
   "metadata": {},
   "outputs": [
    {
     "name": "stdout",
     "output_type": "stream",
     "text": [
      "R    = 96.32347980501169 ohms\n",
      "u(R) = 0.24070003544806773 ohms\n"
     ]
    },
    {
     "data": {
      "image/png": "[encoded data removed]",
      "text/plain": [
       "<Figure size 432x288 with 1 Axes>"
      ]
     },
     "metadata": {
      "needs_background": "light"
     },
     "output_type": "display_data"
    }
   ],
   "source": [
    "import numpy as np\n",
    "import numpy.random as rd\n",
    "\n",
    "#######################\n",
    "# RÉSULTATS DES MESURES\n",
    "#######################\n",
    "u       = 12.05     # tensions aux bornes de la résistance en volts\n",
    "delta_u =  0.02     # imprécision sur la mesure de u en volts\n",
    "i       = 125.1e-3  # intensité du courant en ampères\n",
    "delta_i =   0.5e-3  # imprécision sur la mesure de i en ampères\n",
    "\n",
    "###########################################\n",
    "# FONCTION CALCULANT R À PARTIR DES MESURES\n",
    "###########################################\n",
    "def resistance(u,i):\n",
    "    return u/i      # loi d'ohm\n",
    "\n",
    "#########################\n",
    "# SIMULATION DE N MESURES\n",
    "#########################\n",
    "N = 10000000\n",
    "u_sim = rd.uniform(u-delta_u, u+delta_u, N)\n",
    "i_sim = rd.uniform(i-delta_i, i+delta_i, N)\n",
    "r_sim = resistance(u_sim, i_sim)\n",
    "\n",
    "val_r = np.mean(r_sim)\n",
    "std_r = np.std(r_sim)\n",
    "\n",
    "print(\"R    = \" + str(val_r) + \" ohms\")\n",
    "print(\"u(R) = \" + str(std_r) + \" ohms\")\n",
    "\n",
    "_ = plt.hist(u_sim, bins=200)"
   ]
  },
  {
   "cell_type": "code",
   "execution_count": 39,
   "metadata": {},
   "outputs": [
    {
     "name": "stdout",
     "output_type": "stream",
     "text": [
      "R    = 96.32294164668266 ohms\n",
      "u(R) = 0.24067377618282246 ohms\n"
     ]
    }
   ],
   "source": [
    "r = u/i\n",
    "uu = delta_u / np.sqrt(3)\n",
    "ui = delta_i / np.sqrt(3)\n",
    "ur = r * np.sqrt((uu/u)**2 + (ui/i)**2)\n",
    "\n",
    "print(\"R    = \" + str(r) + \" ohms\")\n",
    "print(\"u(R) = \" + str(ur) + \" ohms\")"
   ]
  },
  {
   "cell_type": "code",
   "execution_count": null,
   "metadata": {},
   "outputs": [],
   "source": []
  }
 ],
 "metadata": {
  "kernelspec": {
   "display_name": "Python 3",
   "language": "python",
   "name": "python3"
  },
  "language_info": {
   "codemirror_mode": {
    "name": "ipython",
    "version": 3
   },
   "file_extension": ".py",
   "mimetype": "text/x-python",
   "name": "python",
   "nbconvert_exporter": "python",
   "pygments_lexer": "ipython3",
   "version": "3.8.3"
  }
 },
 "nbformat": 4,
 "nbformat_minor": 4
}
