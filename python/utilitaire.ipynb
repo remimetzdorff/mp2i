{
 "cells": [
  {
   "cell_type": "code",
   "execution_count": 6,
   "metadata": {},
   "outputs": [
    {
     "name": "stdout",
     "output_type": "stream",
     "text": [
      "Populating the interactive namespace from numpy and matplotlib\n"
     ]
    }
   ],
   "source": [
    "%pylab inline"
   ]
  },
  {
   "cell_type": "code",
   "execution_count": 9,
   "metadata": {},
   "outputs": [
    {
     "name": "stdout",
     "output_type": "stream",
     "text": [
      "Correction of /Users/remimetzdorff/Documents/GitHub/enseignements/2021-2022_cpge_paul_valery_paris/dm/dm7.tex successfully created: /Users/remimetzdorff/Documents/GitHub/enseignements/2021-2022_cpge_paul_valery_paris/dm/temp.tex\n"
     ]
    }
   ],
   "source": [
    "# Création du fichier tex de correction\n",
    "\n",
    "from teaching.correction_file_creator import make_correction\n",
    "\n",
    "mainfolder = \"/Users/remimetzdorff/Documents/GitHub/enseignements/2021-2022_cpge_paul_valery_paris/\"\n",
    "folder = \"dm/\"\n",
    "filename = \"dm7.tex\"\n",
    "make_correction(mainfolder + folder, filename)"
   ]
  },
  {
   "cell_type": "code",
   "execution_count": 6,
   "metadata": {},
   "outputs": [
    {
     "name": "stdout",
     "output_type": "stream",
     "text": [
      "\\prog{P170}\n",
      "\\prog{P171}\n",
      "\\prog{P172}\n",
      "\\prog{P173}\n",
      "\\prog{P174}\n",
      "\\prog{P175}\n",
      "\\prog{P176}\n",
      "\\prog{P177}\n",
      "\\prog{P178}\n",
      "\\prog{P179}\n",
      "\\prog{P180}\n",
      "\\prog{P181}\n",
      "\\prog{P182}\n",
      "\\prog{P183}\n"
     ]
    }
   ],
   "source": [
    "def print_prog(start=1, stop=5):\n",
    "    for i in range(start, stop+1):\n",
    "        print(r\"\\prog{P%g}\"%(i))\n",
    "    return\n",
    "\n",
    "print_prog(170,183)"
   ]
  },
  {
   "cell_type": "code",
   "execution_count": 3,
   "metadata": {},
   "outputs": [
    {
     "data": {
      "text/plain": [
       "10.9"
      ]
     },
     "execution_count": 3,
     "metadata": {},
     "output_type": "execute_result"
    }
   ],
   "source": [
    "7.3+3.6"
   ]
  },
  {
   "cell_type": "code",
   "execution_count": null,
   "metadata": {},
   "outputs": [],
   "source": []
  }
 ],
 "metadata": {
  "kernelspec": {
   "display_name": "Python 3",
   "language": "python",
   "name": "python3"
  },
  "language_info": {
   "codemirror_mode": {
    "name": "ipython",
    "version": 3
   },
   "file_extension": ".py",
   "mimetype": "text/x-python",
   "name": "python",
   "nbconvert_exporter": "python",
   "pygments_lexer": "ipython3",
   "version": "3.8.3"
  }
 },
 "nbformat": 4,
 "nbformat_minor": 4
}
