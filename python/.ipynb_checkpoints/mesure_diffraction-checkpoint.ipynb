{
 "cells": [
  {
   "cell_type": "code",
   "execution_count": 1,
   "metadata": {},
   "outputs": [
    {
     "name": "stdout",
     "output_type": "stream",
     "text": [
      "Populating the interactive namespace from numpy and matplotlib\n"
     ]
    }
   ],
   "source": [
    "%pylab inline\n",
    "import scipy.constants as cst"
   ]
  },
  {
   "cell_type": "markdown",
   "metadata": {},
   "source": [
    "# Mesure de la longueur d'onde du laser par diffraction"
   ]
  },
  {
   "cell_type": "code",
   "execution_count": 40,
   "metadata": {},
   "outputs": [
    {
     "name": "stdout",
     "output_type": "stream",
     "text": [
      "5.773672081075249e-07 3.392702957847772e-08\n"
     ]
    },
    {
     "data": {
      "image/png": "[encoded data removed]",
      "text/plain": [
       "<Figure size 432x288 with 1 Axes>"
      ]
     },
     "metadata": {
      "needs_background": "light"
     },
     "output_type": "display_data"
    }
   ],
   "source": [
    "D       = 92e-2\n",
    "delta_D = .5e-2\n",
    "\n",
    "a = np.array([400,280,120,100,50,40])*1e-6\n",
    "delta_a = .1 * a\n",
    "d = np.array([3,4,8,10,21,27])*1e-3\n",
    "delta_d = 1e-3\n",
    "\n",
    "plt.plot(1/a,d, \"o\")\n",
    "\n",
    "slope_sim, offset_sim, wl_sim = [], [], []\n",
    "for n in range(10000):\n",
    "    a_sim = []\n",
    "    for i in range(len(a)):\n",
    "        a_sim.append(a[i]+np.random.uniform(-delta_a[i],delta_a[i],1)[0])\n",
    "    x_fit = 1/np.array(a_sim)\n",
    "    y_fit = d + np.random.uniform(-delta_d, delta_d, len(d))\n",
    "    slope, offset = np.polyfit(x_fit,y_fit, 1)\n",
    "    slope_sim.append(slope)\n",
    "    offset_sim.append(offset)\n",
    "    wl_sim.append(slope/2/(D+np.random.uniform(-delta_D, delta_D, 1)[0])) \n",
    "\n",
    "slope = np.mean(slope_sim)\n",
    "offset = np.mean(offset_sim)\n",
    "plt.plot(1/a, slope/a + offset)\n",
    "\n",
    "wl = np.array(slope_sim)/2/D\n",
    "print(np.mean(wl_sim), np.std(wl_sim))"
   ]
  },
  {
   "cell_type": "code",
   "execution_count": 41,
   "metadata": {},
   "outputs": [
    {
     "name": "stdout",
     "output_type": "stream",
     "text": [
      "6.08730244296695e-07 4.170702211286033e-08\n"
     ]
    },
    {
     "data": {
      "image/png": "[encoded data removed]",
      "text/plain": [
       "<Figure size 432x288 with 1 Axes>"
      ]
     },
     "metadata": {
      "needs_background": "light"
     },
     "output_type": "display_data"
    }
   ],
   "source": [
    "D       = 100e-2\n",
    "delta_D = .5e-2\n",
    "\n",
    "a = np.array([110,130,150,170,200,250])*1e-6 - 90e-6\n",
    "delta_a = .1 * a\n",
    "d = np.array([60,29,18,14,10,7])*1e-3\n",
    "delta_d = 1e-3\n",
    "\n",
    "plt.plot(1/a,d, \"o\")\n",
    "\n",
    "slope_sim, offset_sim, wl_sim = [], [], []\n",
    "for n in range(10000):\n",
    "    a_sim = []\n",
    "    for i in range(len(a)):\n",
    "        a_sim.append(a[i]+np.random.uniform(-delta_a[i],delta_a[i],1)[0])\n",
    "    x_fit = 1/np.array(a_sim)\n",
    "    y_fit = d + np.random.uniform(-delta_d, delta_d, len(d))\n",
    "    slope, offset = np.polyfit(x_fit,y_fit, 1)\n",
    "    slope_sim.append(slope)\n",
    "    offset_sim.append(offset)\n",
    "    wl_sim.append(slope/2/(D+np.random.uniform(-delta_D, delta_D, 1)[0])) \n",
    "\n",
    "slope = np.mean(slope_sim)\n",
    "offset = np.mean(offset_sim)\n",
    "plt.plot(1/a, slope/a + offset)\n",
    "\n",
    "wl = np.array(slope_sim)/2/D\n",
    "print(np.mean(wl_sim), np.std(wl_sim))"
   ]
  },
  {
   "cell_type": "markdown",
   "metadata": {},
   "source": [
    "Une mesure au spectromètre a donné 532 nm, comme attendu.\n",
    "Il y a vraissemeblablement une erreur systématique dans la mesure de la largeur de la tâche centrale. La méthode utilisée conduit à une surestimation de la largeur.\n",
    "Mieux vaudrait mesurer quelques périodes de la figure de diffraction."
   ]
  },
  {
   "cell_type": "code",
   "execution_count": null,
   "metadata": {},
   "outputs": [],
   "source": []
  }
 ],
 "metadata": {
  "kernelspec": {
   "display_name": "Python 3",
   "language": "python",
   "name": "python3"
  },
  "language_info": {
   "codemirror_mode": {
    "name": "ipython",
    "version": 3
   },
   "file_extension": ".py",
   "mimetype": "text/x-python",
   "name": "python",
   "nbconvert_exporter": "python",
   "pygments_lexer": "ipython3",
   "version": "3.8.3"
  }
 },
 "nbformat": 4,
 "nbformat_minor": 4
}
