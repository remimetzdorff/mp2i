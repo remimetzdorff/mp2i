{
 "cells": [
  {
   "cell_type": "code",
   "execution_count": 1,
   "metadata": {},
   "outputs": [
    {
     "name": "stdout",
     "output_type": "stream",
     "text": [
      "Populating the interactive namespace from numpy and matplotlib\n"
     ]
    }
   ],
   "source": [
    "%pylab inline"
   ]
  },
  {
   "cell_type": "code",
   "execution_count": 3,
   "metadata": {},
   "outputs": [
    {
     "name": "stdout",
     "output_type": "stream",
     "text": [
      "10.352941176470587 0.40211023367543397\n"
     ]
    }
   ],
   "source": [
    "# Descartes\n",
    "\n",
    "oa, u1  = -13.2, .5\n",
    "oap, u2 = 48.0, .1\n",
    "\n",
    "num   = oap * oa\n",
    "u_num   = num * np.sqrt((u1/oa)**2 + (u2/oap)**2)\n",
    "denom = oa-oap\n",
    "u_denom = np.sqrt(u1**2 + u2 ** 2)\n",
    "\n",
    "f = num / denom\n",
    "u_tot   = f * np.sqrt((u_num/num)**2 + (u_denom/denom)**2)\n",
    "print(f, u_tot)"
   ]
  },
  {
   "cell_type": "code",
   "execution_count": 4,
   "metadata": {},
   "outputs": [
    {
     "name": "stdout",
     "output_type": "stream",
     "text": [
      "1.0733126291998984\n",
      "1.2998673672393632\n",
      "0.3123475237772138\n"
     ]
    }
   ],
   "source": [
    "# Écarts normalisés\n",
    "\n",
    "f1, u1 = 9, 1\n",
    "f2, u2 = 10.2, .5\n",
    "f3, u3 = 10.4, .4\n",
    "\n",
    "print(np.abs(f1-f2)/np.sqrt(u1**2 + u2**2))\n",
    "print(np.abs(f1-f3)/np.sqrt(u1**2 + u3**2))\n",
    "print(np.abs(f2-f3)/np.sqrt(u2**2 + u3**2))"
   ]
  },
  {
   "cell_type": "code",
   "execution_count": null,
   "metadata": {},
   "outputs": [],
   "source": []
  }
 ],
 "metadata": {
  "kernelspec": {
   "display_name": "Python 3",
   "language": "python",
   "name": "python3"
  },
  "language_info": {
   "codemirror_mode": {
    "name": "ipython",
    "version": 3
   },
   "file_extension": ".py",
   "mimetype": "text/x-python",
   "name": "python",
   "nbconvert_exporter": "python",
   "pygments_lexer": "ipython3",
   "version": "3.8.3"
  }
 },
 "nbformat": 4,
 "nbformat_minor": 4
}
