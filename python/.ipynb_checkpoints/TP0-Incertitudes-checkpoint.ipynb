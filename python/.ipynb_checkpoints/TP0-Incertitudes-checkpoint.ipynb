{
 "cells": [
  {
   "cell_type": "code",
   "execution_count": 1,
   "metadata": {},
   "outputs": [
    {
     "name": "stdout",
     "output_type": "stream",
     "text": [
      "Populating the interactive namespace from numpy and matplotlib\n"
     ]
    }
   ],
   "source": [
    "%pylab inline\n",
    "\n",
    "def mysavefig(filename):\n",
    "    plt.tight_layout()\n",
    "    plt.savefig(\"../images/outils-incertitude/\"+filename, bbox_inches=\"tight\", dpi=600)\n",
    "    return"
   ]
  },
  {
   "cell_type": "code",
   "execution_count": 81,
   "metadata": {},
   "outputs": [
    {
     "name": "stdout",
     "output_type": "stream",
     "text": [
      "82528.60534934372 0.19128172418233508\n",
      "82946.27114878279 0.22481082724924661\n"
     ]
    },
    {
     "data": {
      "image/png": "[encoded data removed]",
      "text/plain": [
       "<Figure size 432x216 with 2 Axes>"
      ]
     },
     "metadata": {
      "needs_background": "light"
     },
     "output_type": "display_data"
    }
   ],
   "source": [
    "r4p = np.random.normal(loc=82.52860, scale=1.96e-4, size=2000)*1e3\n",
    "r2p = np.random.normal(loc=82.94627, scale=2.27e-4, size=2000)*1e3\n",
    "\n",
    "fig = plt.figure(figsize=(6,3))\n",
    "sps = (1,2)\n",
    "ax1 = plt.subplot2grid(sps, (0,0))\n",
    "ax2 = plt.subplot2grid(sps, (0,1))\n",
    "\n",
    "_ = ax1.hist(r4p-r4p.mean(), rwidth=.75)\n",
    "_ = ax2.hist(r2p-r4p.mean(), rwidth=.75)\n",
    "\n",
    "ticks = np.linspace(0,2000,21)\n",
    "for ax, r in zip([ax1, ax2], [r4p, r2p]):\n",
    "    print(r.mean(), r.std())\n",
    "    _ = ax.set_yticks(ticks)\n",
    "    _ = ax.set_ylim(0,600)\n",
    "    _ = ax.set_yticklabels(ticks/20)\n",
    "\n",
    "ax1.set_xticks([-.5,-0,.5])\n",
    "ax2.set_xticks(np.array([-.5,-0,.5])+r2p.mean()-r4p.mean())\n",
    "ax2.xaxis.set_major_formatter(FormatStrFormatter('%.1f'))\n",
    "ax2.set_yticks([])\n",
    "\n",
    "ax1.set_title(\"Méthode quatre fils\")\n",
    "ax2.set_title(\"Méthode deux fils\")\n",
    "\n",
    "ax1.set_xlabel(u\"$r_{4f} - \\overline{r_{4f}}$ (m$\\Omega$)\")\n",
    "ax2.set_xlabel(u\"$r_{2f} - \\overline{r_{4f}}$ (m$\\Omega$)\")\n",
    "\n",
    "ax1.set_ylabel(\"Fréquence (%)\")\n",
    "\n",
    "#mysavefig(\"resistance.png\")"
   ]
  },
  {
   "cell_type": "code",
   "execution_count": 4,
   "metadata": {},
   "outputs": [
    {
     "name": "stdout",
     "output_type": "stream",
     "text": [
      "[82.5287 82.5288 82.5284 82.5289 82.5284]\n",
      "82.52864 0.00023021728866466182 0.00010295630140997511\n"
     ]
    }
   ],
   "source": [
    "r = np.array([7,8,4,9,4])*1e-4 + 82.528\n",
    "print(r)\n",
    "print(r.mean(), r.std(ddof=1), r.std(ddof=1)/np.sqrt(len(r)))"
   ]
  },
  {
   "cell_type": "code",
   "execution_count": 92,
   "metadata": {},
   "outputs": [
    {
     "name": "stdout",
     "output_type": "stream",
     "text": [
      "1.06/0.18 ,1.50/0.39 ,1.06/-0.05 ,1.20/-0.24 ,1.16/0.92 ,1.22/0.61 ,1.37/0.26 ,0.22/0.44 ,1.57/0.43 ,0.77/0.49 ,0.44/0.70 ,0.20/0.68 ,1.12/0.26 ,0.94/0.72 ,1.32/0.99 ,0.87/1.35 ,1.00/0.01 ,0.86/0.56 ,1.25/0.03 ,0.90/0.66 ,1.04/0.48 ,0.96/0.34 ,0.72/0.91 ,0.20/0.91 ,0.54/1.11 ,\n"
     ]
    }
   ],
   "source": [
    "xy, scale, size = (1,.5), .4, 25\n",
    "xs = np.random.normal(loc=xy[0], scale=scale, size=size)\n",
    "ys = np.random.normal(loc=xy[1], scale=scale, size=size)\n",
    "\n",
    "s = \"\"\n",
    "for x,y in zip(xs,ys):\n",
    "    s += \"{:.2f}/{:.2f} ,\".format(x,y)\n",
    "print(s)"
   ]
  },
  {
   "cell_type": "code",
   "execution_count": 2,
   "metadata": {},
   "outputs": [
    {
     "name": "stdout",
     "output_type": "stream",
     "text": [
      "OHMMÈTRE NUMÉRIQUE\n",
      "# Incertitude de type A\n",
      "  Moyenne : 82.47999999999999\n",
      "  Écart-type expérimental : 0.3765338999051458\n",
      "  Incertitude-type : 0.11907047399661191\n",
      "# Incertitude de type B\n",
      "  Incertitude-type : 0.4863136787438055\n",
      "# Incertitude-type totale\n",
      "  Incertitude-type : 0.5006783118042074\n",
      "OHMMÈTRE ANALOGIQUE\n",
      "# Incertitude de type B\n",
      "  Incertitude-type : 0.5773502691896258\n",
      "# Incertitude-type totale\n",
      "  Incertitude-type : 0.5773502691896258\n"
     ]
    }
   ],
   "source": [
    "num = np.array([81.9, 82.5, 82.3, 82.4, 82.6, 82.6, 83.2, 82.3, 82.9, 82.1])\n",
    "rn = num.mean()\n",
    "ua = (num.std(ddof=1)/np.sqrt(len(num)))\n",
    "ub = (num.mean()*0.009 + 0.1)/np.sqrt(3)\n",
    "u  = np.sqrt(ua**2 + ub**2)\n",
    "\n",
    "print(\"OHMMÈTRE NUMÉRIQUE\")\n",
    "print(\"# Incertitude de type A\")\n",
    "print(\"  Moyenne : {}\".format(rn))\n",
    "print(\"  Écart-type expérimental : {}\".format(num.std(ddof=1)))\n",
    "print(\"  Incertitude-type : {}\".format(ua))\n",
    "print(\"# Incertitude de type B\")\n",
    "print(\"  Incertitude-type : {}\".format(ub))\n",
    "print(\"# Incertitude-type totale\")\n",
    "print(\"  Incertitude-type : {}\".format(u))\n",
    "\n",
    "ub = 1/np.sqrt(3)\n",
    "u = ub\n",
    "\n",
    "print(\"OHMMÈTRE ANALOGIQUE\")\n",
    "print(\"# Incertitude de type B\")\n",
    "print(\"  Incertitude-type : {}\".format(ub))\n",
    "print(\"# Incertitude-type totale\")\n",
    "print(\"  Incertitude-type : {}\".format(u))"
   ]
  },
  {
   "cell_type": "code",
   "execution_count": 10,
   "metadata": {},
   "outputs": [
    {
     "data": {
      "image/png": "[encoded data removed]",
      "text/plain": [
       "<Figure size 432x288 with 1 Axes>"
      ]
     },
     "metadata": {
      "needs_background": "light"
     },
     "output_type": "display_data"
    }
   ],
   "source": [
    "# Début de programme pour aider les étudiants à démarer\n",
    "\n",
    "import numpy as np\n",
    "import matplotlib.pyplot as plt\n",
    "\n",
    "#######################\n",
    "# GÉNÉRATION DE DONNÉES\n",
    "#######################\n",
    "x0    = 1.0\n",
    "sigma = 0.1\n",
    "n     = 100\n",
    "\n",
    "r = np.random.normal(x0, sigma, n)\n",
    "\n",
    "#########################\n",
    "# HISTOGRAMME DES DONNÉES\n",
    "#########################\n",
    "# A compléter\n",
    "\n",
    "plt.xlabel(\"Le titre de l'axe des abscices\")\n",
    "plt.ylabel(\"Le titre de l'axe des ordonnées\")\n",
    "plt.title(\"Le titre du graphique\")\n",
    "plt.show()"
   ]
  },
  {
   "cell_type": "code",
   "execution_count": 15,
   "metadata": {},
   "outputs": [
    {
     "data": {
      "text/plain": [
       "0.06440342252810276"
      ]
     },
     "execution_count": 15,
     "metadata": {},
     "output_type": "execute_result"
    }
   ],
   "source": [
    "r = 82.5\n",
    "c = 10000\n",
    "\n",
    "delta = 0.014*1e-2 * r + 0.001*1e-2 * c\n",
    "delta/np.sqrt(3)"
   ]
  },
  {
   "cell_type": "code",
   "execution_count": 20,
   "metadata": {},
   "outputs": [
    {
     "data": {
      "text/plain": [
       "5.780171087505398"
      ]
     },
     "execution_count": 20,
     "metadata": {},
     "output_type": "execute_result"
    }
   ],
   "source": [
    "(0.014 * 82.5 / 100 + 0.001 * 1e6 / 100) / np.sqrt(3)"
   ]
  },
  {
   "cell_type": "markdown",
   "metadata": {},
   "source": [
    "# Correction du TP0"
   ]
  },
  {
   "cell_type": "code",
   "execution_count": null,
   "metadata": {},
   "outputs": [],
   "source": [
    "import numpy as np"
   ]
  },
  {
   "cell_type": "code",
   "execution_count": 37,
   "metadata": {},
   "outputs": [
    {
     "name": "stdout",
     "output_type": "stream",
     "text": [
      "Moyenne                 = 82.47999999999999\n",
      "Écart-type expérimental = 0.3765338999051458 ohm\n"
     ]
    }
   ],
   "source": [
    "# Question 1\n",
    "\n",
    "mesures = [81.9, 82.5, 82.3, 82.4, 82.6, 82.6, 83.2, 82.3, 82.9, 82.1]\n",
    "moyenne        = np.mean(mesures)\n",
    "ecart_type_exp = np.std(mesures, ddof=1)\n",
    "print(\"Moyenne                 =\", moyenne, \"ohm\")\n",
    "print(\"Écart-type expérimental =\", ecart_type_exp, \"ohm\")"
   ]
  },
  {
   "cell_type": "code",
   "execution_count": 33,
   "metadata": {},
   "outputs": [
    {
     "name": "stdout",
     "output_type": "stream",
     "text": [
      "u_A(R_num) = 0.11907047399661191\n"
     ]
    }
   ],
   "source": [
    "# Question 2\n",
    "\n",
    "ua_num = ecart_type_exp / np.sqrt(len(mesures))\n",
    "print(\"u_A(R_num) =\", ua_num, \"ohm\")"
   ]
  },
  {
   "cell_type": "code",
   "execution_count": 35,
   "metadata": {},
   "outputs": [
    {
     "name": "stdout",
     "output_type": "stream",
     "text": [
      "u_B(R_ana) = 0.2886751345948129\n"
     ]
    }
   ],
   "source": [
    "# Question 4\n",
    "\n",
    "delta_grad = 1\n",
    "ub_ana = delta_grad / (2 * np.sqrt(3))\n",
    "print(\"u_B(R_ana) =\", ub_ana, \"ohm\")"
   ]
  },
  {
   "cell_type": "code",
   "execution_count": 38,
   "metadata": {},
   "outputs": [
    {
     "name": "stdout",
     "output_type": "stream",
     "text": [
      "u_B(R_num) = 0.4863136787438056 ohm\n"
     ]
    }
   ],
   "source": [
    "# Question 5\n",
    "\n",
    "delta_cons = moyenne * 0.9 / 100 + 1 * 0.1\n",
    "ub_num     = delta_cons / np.sqrt(3)\n",
    "print(\"u_B(R_num) =\", ub_num, \"ohm\")"
   ]
  },
  {
   "cell_type": "code",
   "execution_count": 45,
   "metadata": {},
   "outputs": [
    {
     "name": "stdout",
     "output_type": "stream",
     "text": [
      "u_tot(R_num) = 0.5006783118042075 ohm\n"
     ]
    }
   ],
   "source": [
    "# Question 6\n",
    "\n",
    "u_tot = np.sqrt(ua_num ** 2 + ub_num ** 2)\n",
    "print(\"u_tot(R_num) =\", u_tot, \"ohm\")"
   ]
  },
  {
   "cell_type": "code",
   "execution_count": 50,
   "metadata": {},
   "outputs": [
    {
     "name": "stdout",
     "output_type": "stream",
     "text": [
      "Écart normalisé = 0.057997100217474604\n"
     ]
    }
   ],
   "source": [
    "# Question 8\n",
    "\n",
    "r_ref = 82.529 # méthode quatre fils\n",
    "u_ref = 0.005\n",
    "r_num = 82.5   # ohmmètre numérique\n",
    "u_num = 0.5\n",
    "ecart_normalise = np.abs(r_ref - r_num) / np.sqrt(u_ref ** 2 + u_num ** 2)\n",
    "print(\"Écart normalisé =\", ecart_normalise)"
   ]
  },
  {
   "cell_type": "code",
   "execution_count": 55,
   "metadata": {},
   "outputs": [
    {
     "name": "stdout",
     "output_type": "stream",
     "text": [
      "incertitude-type (calibre 100 ohm) = 0.010709847493467558 ohm\n",
      "incertitude-type (calibre 10 kohm) = 0.06440342252810276 ohm\n",
      "incertitude-type (calibre 1 Mohm)  = 5.780171087505398 ohm\n"
     ]
    },
    {
     "data": {
      "text/plain": [
       "7.006267984855027"
      ]
     },
     "execution_count": 55,
     "metadata": {},
     "output_type": "execute_result"
    }
   ],
   "source": [
    "# Question 9\n",
    "\n",
    "delta_cons_100 = 0.014 * r_num / 100 + 0.007 * 100 / 100\n",
    "ub_100         = delta_cons_100 / np.sqrt(3)\n",
    "delta_cons_10k = 0.014 * r_num / 100 + 0.001 * 1e4 / 100\n",
    "ub_10k         = delta_cons_10k / np.sqrt(3)\n",
    "delta_cons_1M  = 0.014 * r_num / 100 + 0.001 * 1e6 / 100\n",
    "ub_1M          = delta_cons_1M / np.sqrt(3)\n",
    "print(\"incertitude-type (calibre 100 ohm) =\", ub_100, \"ohm\")\n",
    "print(\"incertitude-type (calibre 10 kohm) =\", ub_10k, \"ohm\")\n",
    "print(\"incertitude-type (calibre 1 Mohm)  =\", ub_1M, \"ohm\")\n",
    "\n",
    "ub_1M / r_num * 100"
   ]
  },
  {
   "cell_type": "code",
   "execution_count": 66,
   "metadata": {},
   "outputs": [
    {
     "name": "stdout",
     "output_type": "stream",
     "text": [
      "R = (338 +/- 2) ohm\n"
     ]
    }
   ],
   "source": [
    "# Question 11\n",
    "\n",
    "u            = 12.1     # tension en volts\n",
    "delta_cons_u = 0.15 * u / 100 + 2 * 0.1e-3\n",
    "u_u          = delta_cons_u / np.sqrt(3)\n",
    "i            = 35.8e-3  # intensité en ampères\n",
    "delta_cons_i = 1 * i / 100 + 3 * 0.01e-3\n",
    "u_i          = delta_cons_i / np.sqrt(3)\n",
    "r            = u / i # résistance en ohms\n",
    "u_r = r * np.sqrt((u_u / u)**2 + (u_i / i)**2)\n",
    "print(\"R = ({:.0f} +/- {:.0f}) ohm\".format(r, u_r))"
   ]
  },
  {
   "cell_type": "code",
   "execution_count": 67,
   "metadata": {},
   "outputs": [
    {
     "data": {
      "text/plain": [
       "0.7844645405527362"
      ]
     },
     "execution_count": 67,
     "metadata": {},
     "output_type": "execute_result"
    }
   ],
   "source": [
    "# Question 12\n",
    "\n",
    "(338-330) / np.sqrt( 2**2 + 10**2 )"
   ]
  },
  {
   "cell_type": "code",
   "execution_count": 69,
   "metadata": {},
   "outputs": [
    {
     "data": {
      "text/plain": [
       "Text(0, 0.5, 'Fréquence (%)')"
      ]
     },
     "execution_count": 69,
     "metadata": {},
     "output_type": "execute_result"
    },
    {
     "data": {
      "image/png": "[encoded data removed]",
      "text/plain": [
       "<Figure size 432x288 with 1 Axes>"
      ]
     },
     "metadata": {
      "needs_background": "light"
     },
     "output_type": "display_data"
    }
   ],
   "source": [
    "# Question 13\n",
    "\n",
    "import numpy as np\n",
    "import matplotlib.pyplot as plt\n",
    "\n",
    "#########################\n",
    "# PRÉPARATION DES DONNÉES\n",
    "#########################\n",
    "x0    = 82.529  # moyenne\n",
    "sigma = 162e-6  # écart-type\n",
    "n     = 2000    # nombre de mesures\n",
    "mesures = np.random.normal(x0, sigma, n)\n",
    "\n",
    "########################################\n",
    "# HISTOGRAMME DES DONNÉES EXPÉRIMENTALES\n",
    "########################################\n",
    "plt.hist(mesures)\n",
    "plt.title(\"Méthode quatre fils\")\n",
    "plt.xlabel(\"Résistance en ohms\")\n",
    "plt.ylabel(\"Fréquence (%)\")\n",
    "plt.show()"
   ]
  },
  {
   "cell_type": "code",
   "execution_count": 72,
   "metadata": {},
   "outputs": [
    {
     "name": "stdout",
     "output_type": "stream",
     "text": [
      "Moyenne    = 82.52900759024912\n",
      "Écart-type = 0.00016479964544916626\n",
      "Écart-type = 0.00016479964544916626\n"
     ]
    }
   ],
   "source": [
    "# Question 14\n",
    "\n",
    "print(\"Moyenne    =\", np.mean(mesures))\n",
    "print(\"Écart-type =\", np.sqrt(n/(n-1)) * np.std(mesures))\n",
    "print(\"Écart-type =\", np.std(mesures, ddof=1))"
   ]
  },
  {
   "cell_type": "code",
   "execution_count": 31,
   "metadata": {},
   "outputs": [
    {
     "name": "stdout",
     "output_type": "stream",
     "text": [
      "\n"
     ]
    },
    {
     "data": {
      "image/png": "[encoded data removed]",
      "text/plain": [
       "<Figure size 864x288 with 3 Axes>"
      ]
     },
     "metadata": {
      "needs_background": "light"
     },
     "output_type": "display_data"
    }
   ],
   "source": [
    "# Pour comprendre\n",
    "\n",
    "N     = 1000000\n",
    "x0    = 0\n",
    "sigma = 1\n",
    "\n",
    "plt.figure(figsize=(12,4))\n",
    "sps = (1,3)\n",
    "ax1 = plt.subplot2grid(sps, (0,0))\n",
    "ax2 = plt.subplot2grid(sps, (0,1))\n",
    "ax3 = plt.subplot2grid(sps, (0,2))\n",
    "\n",
    "x_rect = (np.random.random(N) - .5) * 2 * sigma + x0\n",
    "x_tria = np.random.triangular(-1,0,1,N)\n",
    "x_norm = np.random.normal(0,1,N)\n",
    "\n",
    "_ = ax1.hist(x_rect, bins=101)\n",
    "ax1.set_title(\"{:.4f} ({:.4f})\".format(x_rect.std(), sigma/np.sqrt(3)))\n",
    "_ = ax2.hist(x_tria, bins=101)\n",
    "ax2.set_title(\"{:.4f} ({:.4f})\".format(x_tria.std(), sigma/np.sqrt(6)))\n",
    "_ = ax3.hist(x_norm, bins=101)\n",
    "ax3.set_title(\"{:.4f} ({:.4f})\".format(x_norm.std(), sigma))\n",
    "\n",
    "for ax in [ax1, ax2, ax3]:\n",
    "    ax.set_xlim(-3,3)\n",
    "\n",
    "print()"
   ]
  },
  {
   "cell_type": "markdown",
   "metadata": {},
   "source": [
    "# Monte-Carlo"
   ]
  },
  {
   "cell_type": "markdown",
   "metadata": {},
   "source": [
    "## Mesure simple\n"
   ]
  },
  {
   "cell_type": "code",
   "execution_count": 14,
   "metadata": {},
   "outputs": [
    {
     "name": "stdout",
     "output_type": "stream",
     "text": [
      "PROPAGATION\n",
      "résistance = (12000.00 +/- 90.18) ohms\n",
      "SIMULATION\n",
      "résistance = (12002.26 +/- 88.55) ohms\n"
     ]
    }
   ],
   "source": [
    "u       = 12.0   # volts\n",
    "delta_u = .1 \n",
    "uu      = delta_u/np.sqrt(3)\n",
    "i       = 1e-3   # amperes\n",
    "delta_i = .01e-3\n",
    "ui      = delta_i/np.sqrt(3)\n",
    "N       = 1000\n",
    "\n",
    "r  = u/i\n",
    "ur = r * np.sqrt((uu/u)**2 + (ui/i)**2)\n",
    "\n",
    "print(\"PROPAGATION\")\n",
    "print(\"résistance = ({:.2f} +/- {:.2f}) ohms\".format(r, ur))\n",
    "\n",
    "u_rect = (np.random.random(N) - .5) * 2 * delta_u + u\n",
    "i_rect = (np.random.random(N) - .5) * 2 * delta_i + i\n",
    "r_rect = u_rect/i_rect\n",
    "\n",
    "print(\"SIMULATION\")\n",
    "print(\"résistance = ({:.2f} +/- {:.2f}) ohms\".format(np.mean(r_rect), np.std(r_rect)))"
   ]
  },
  {
   "cell_type": "code",
   "execution_count": 27,
   "metadata": {},
   "outputs": [
    {
     "data": {
      "text/plain": [
       "(12000.293685881712, 90.13131488606186)"
      ]
     },
     "execution_count": 27,
     "metadata": {},
     "output_type": "execute_result"
    }
   ],
   "source": [
    "# Proposition de code\n",
    "\n",
    "u       = 12.0   # volts\n",
    "delta_u = .1     # imprécision de mesure\n",
    "i       = 1e-3   # amperes\n",
    "delta_i = .01e-3 # imprécision\n",
    "\n",
    "def resistance(u,i):\n",
    "    return u/i\n",
    "\n",
    "def incertitude_type(delta):\n",
    "    return delta/np.sqrt(3)\n",
    "\n",
    "def simulation(u, i, delta_u, delta_i, N=1000):\n",
    "    u_sim = (np.random.random(N) - .5) * 2 * delta_u + u\n",
    "    i_sim = (np.random.random(N) - .5) * 2 * delta_i + i\n",
    "    r_sim = resistance(u_sim, i_sim)\n",
    "    return np.mean(r_sim), np.std(r_sim)\n",
    "\n",
    "simulation(u,i,delta_u,delta_i)"
   ]
  },
  {
   "cell_type": "markdown",
   "metadata": {},
   "source": [
    "## Ajustement linéaire"
   ]
  },
  {
   "cell_type": "code",
   "execution_count": 32,
   "metadata": {},
   "outputs": [
    {
     "data": {
      "image/png": "[encoded data removed]",
      "text/plain": [
       "<Figure size 432x288 with 1 Axes>"
      ]
     },
     "metadata": {
      "needs_background": "light"
     },
     "output_type": "display_data"
    }
   ],
   "source": [
    "folder = \"/Users/remimetzdorff/Documents/GitHub/enseignements/2021-2022_cpge_paul_valery_paris/tp/tp5/\"\n",
    "\n",
    "data = np.genfromtxt(folder+\"scope_0.csv\", delimiter=',')\n",
    "t = data[2:,0]\n",
    "e = data[2:,1]\n",
    "u = data[2:,2]\n",
    "N = len(t)\n",
    "\n",
    "i_start = 500\n",
    "i_stop  = 600\n",
    "portion_t = t[i_start:i_stop]\n",
    "portion_u = u[i_start:i_stop]\n",
    "\n",
    "#plt.plot(portion_t,portion_u)\n",
    "plt.plot(portion_t,np.log(portion_u))\n",
    "\n",
    "uy = .1 * np.ones(len(portion_u))\n",
    "params, cov = np.polyfit(portion_t, np.log(portion_u),1,w=1/uy,cov=True)"
   ]
  },
  {
   "cell_type": "code",
   "execution_count": null,
   "metadata": {},
   "outputs": [],
   "source": []
  }
 ],
 "metadata": {
  "kernelspec": {
   "display_name": "Python 3",
   "language": "python",
   "name": "python3"
  },
  "language_info": {
   "codemirror_mode": {
    "name": "ipython",
    "version": 3
   },
   "file_extension": ".py",
   "mimetype": "text/x-python",
   "name": "python",
   "nbconvert_exporter": "python",
   "pygments_lexer": "ipython3",
   "version": "3.8.3"
  }
 },
 "nbformat": 4,
 "nbformat_minor": 4
}
