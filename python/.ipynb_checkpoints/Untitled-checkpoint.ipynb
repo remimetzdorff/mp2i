{
 "cells": [
  {
   "cell_type": "code",
   "execution_count": 2,
   "metadata": {},
   "outputs": [
    {
     "name": "stdout",
     "output_type": "stream",
     "text": [
      "Populating the interactive namespace from numpy and matplotlib\n"
     ]
    }
   ],
   "source": [
    "%pylab qt\n",
    "from scipy.integrate import odeint\n",
    "import scipy.constants as cst\n",
    "import matplotlib.animation as animation"
   ]
  },
  {
   "cell_type": "code",
   "execution_count": 61,
   "metadata": {},
   "outputs": [],
   "source": [
    "g = cst.g\n",
    "l0 = .1\n",
    "k = 30\n",
    "m = .215\n",
    "a = 0\n",
    "\n",
    "leq = l0+m*g/k\n",
    "\n",
    "V0 = [leq, 0, np.pi/3, 0]\n",
    "\n",
    "duration = 15\n",
    "fps      = 25\n",
    "\n",
    "def pendule_ressort(V,t):\n",
    "    r, dr, theta, dtheta = V\n",
    "    ddr = r * dtheta**2 + g*np.cos(theta) - k / m * (r-l0) - a * dr\n",
    "    ddtheta = (- g * np.sin(theta) - 2 * dr * dtheta) / r - a * r*dtheta\n",
    "    return [dr, ddr, dtheta, ddtheta]\n",
    "\n",
    "# Trajectoire\n",
    "t = np.linspace(0,duration,duration*fps*10)\n",
    "V = odeint(pendule_ressort, V0, t)\n",
    "r = V[:,0]\n",
    "theta = V[:,2]\n",
    "x_traj = r * np.sin(theta)\n",
    "z_traj = -r * np.cos(theta)\n",
    "\n",
    "# Positions pour l'animation\n",
    "t = np.linspace(0,duration,duration*fps)\n",
    "V = odeint(pendule_ressort, V0, t)\n",
    "r = V[:,0]\n",
    "theta = V[:,2]\n",
    "x = r * np.sin(theta)\n",
    "z = -r * np.cos(theta)\n",
    "\n",
    "# DISPLAY\n",
    "fig = plt.figure(figsize=(12,8))\n",
    "sps = (2,3)\n",
    "ax1 = plt.subplot2grid(sps,(0,0))\n",
    "ax2 = plt.subplot2grid(sps,(1,0))\n",
    "ax3 = plt.subplot2grid(sps,(0,1), rowspan=2, colspan=2)\n",
    "ax3.set_aspect(\"equal\")\n",
    "ax3.set_xlim(-5*l0, 5*l0)\n",
    "ax3.set_ylim(-5*l0,2*l0)\n",
    "\n",
    "ax1.plot(t,r)\n",
    "ax2.plot(t,theta)\n",
    "\n",
    "def init():\n",
    "    oscillateur, = ax3.plot([], [], \"o-\", color=\"k\")\n",
    "    trajectory,  = ax3.plot([], [], \"C0\", alpha=.5)\n",
    "    return oscillateur,\n",
    "\n",
    "def animate(i):\n",
    "    oscillateur.set_data([0,x[i]], [0,z[i]])\n",
    "    trajectory.set_data(x[:i], z[:i])\n",
    "    return oscillateur, \n",
    "\n",
    "ani = animation.FuncAnimation(fig, animate, frames=len(x)-1, interval=1e3/fps, init_func=init)"
   ]
  },
  {
   "cell_type": "code",
   "execution_count": null,
   "metadata": {},
   "outputs": [],
   "source": []
  }
 ],
 "metadata": {
  "kernelspec": {
   "display_name": "Python 3",
   "language": "python",
   "name": "python3"
  },
  "language_info": {
   "codemirror_mode": {
    "name": "ipython",
    "version": 3
   },
   "file_extension": ".py",
   "mimetype": "text/x-python",
   "name": "python",
   "nbconvert_exporter": "python",
   "pygments_lexer": "ipython3",
   "version": "3.8.3"
  }
 },
 "nbformat": 4,
 "nbformat_minor": 4
}
