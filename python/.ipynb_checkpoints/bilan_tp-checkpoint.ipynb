{
 "cells": [
  {
   "cell_type": "code",
   "execution_count": 28,
   "metadata": {},
   "outputs": [
    {
     "name": "stdout",
     "output_type": "stream",
     "text": [
      "Populating the interactive namespace from numpy and matplotlib\n"
     ]
    }
   ],
   "source": [
    "%pylab inline\n",
    "\n",
    "import pandas\n",
    "\n",
    "file_folder = \"../classe/\"\n",
    "filename    = file_folder + \"tp_grille_notation.xlsx\"\n",
    "\n",
    "def appreciation_to_note(mark):\n",
    "    if mark == \"A\":        # A tous les points\n",
    "        val = 1\n",
    "    elif mark == \"B\":      # B trois quarts des points\n",
    "        val = .75\n",
    "    elif mark == \"C\":      # C la moitié des points\n",
    "        val = .5\n",
    "    elif mark == \"D\":      # D un quart des points\n",
    "        val = .25\n",
    "    elif mark == \"0\":      # pas de points\n",
    "        val = 0\n",
    "    return val\n",
    "\n",
    "def note_to_appreciation(val):\n",
    "    if val == 0:\n",
    "        mark = \"0\"\n",
    "    elif val <= .25:\n",
    "        mark = \"D\"\n",
    "    elif val <= .5:\n",
    "        mark = \"C\"\n",
    "    elif val <= .75:\n",
    "        mark = \"B\"\n",
    "    elif val <= 1:\n",
    "        mark = \"A\"\n",
    "    else:\n",
    "        mark = \" \"\n",
    "    return mark"
   ]
  },
  {
   "cell_type": "code",
   "execution_count": 48,
   "metadata": {},
   "outputs": [
    {
     "name": "stdout",
     "output_type": "stream",
     "text": [
      "Groupe   /20   APP   ANA   REA   VAL   COM   RCO  AUTO\n",
      "------------------------------------------------------\n",
      " 0     17.17   2.0   4.2   5.5   5.0   3.0   0.0   0.0\n",
      "                 A     A     B     A     A            \n",
      "------------------------------------------------------\n",
      " 1      0.00   0.0   0.0   0.0   0.0   0.0   0.0   0.0\n",
      "                 0     0     0     0     0            \n",
      "------------------------------------------------------\n",
      " 2      0.00   0.0   0.0   0.0   0.0   0.0   0.0   0.0\n",
      "                 0     0     0     0     0            \n",
      "------------------------------------------------------\n",
      " 3      0.00   0.0   0.0   0.0   0.0   0.0   0.0   0.0\n",
      "                 0     0     0     0     0            \n",
      "------------------------------------------------------\n",
      " 4      0.00   0.0   0.0   0.0   0.0   0.0   0.0   0.0\n",
      "                 0     0     0     0     0            \n",
      "------------------------------------------------------\n",
      " 5      0.00   0.0   0.0   0.0   0.0   0.0   0.0   0.0\n",
      "                 0     0     0     0     0            \n",
      "------------------------------------------------------\n",
      " 6      0.00   0.0   0.0   0.0   0.0   0.0   0.0   0.0\n",
      "                 0     0     0     0     0            \n",
      "------------------------------------------------------\n",
      " 7      0.00   0.0   0.0   0.0   0.0   0.0   0.0   0.0\n",
      "                 0     0     0     0     0            \n",
      "------------------------------------------------------\n",
      " 8      0.00   0.0   0.0   0.0   0.0   0.0   0.0   0.0\n",
      "                 0     0     0     0     0            \n",
      "------------------------------------------------------\n",
      " 9      0.00   0.0   0.0   0.0   0.0   0.0   0.0   0.0\n",
      "                 0     0     0     0     0            \n",
      "------------------------------------------------------\n",
      "10      0.00   0.0   0.0   0.0   0.0   0.0   0.0   0.0\n",
      "                 0     0     0     0     0            \n",
      "------------------------------------------------------\n",
      "11      0.00   0.0   0.0   0.0   0.0   0.0   0.0   0.0\n",
      "                 0     0     0     0     0            \n",
      "------------------------------------------------------\n",
      "12      0.00   0.0   0.0   0.0   0.0   0.0   0.0   0.0\n",
      "                 0     0     0     0     0            \n",
      "------------------------------------------------------\n",
      "13      0.00   0.0   0.0   0.0   0.0   0.0   0.0   0.0\n",
      "                 0     0     0     0     0            \n",
      "------------------------------------------------------\n",
      "14      0.00   0.0   0.0   0.0   0.0   0.0   0.0   0.0\n",
      "                 0     0     0     0     0            \n",
      "------------------------------------------------------\n",
      "15      0.00   0.0   0.0   0.0   0.0   0.0   0.0   0.0\n",
      "                 0     0     0     0     0            \n",
      "------------------------------------------------------\n",
      "16      0.00   0.0   0.0   0.0   0.0   0.0   0.0   0.0\n",
      "                 0     0     0     0     0            \n",
      "------------------------------------------------------\n",
      "17      0.00   0.0   0.0   0.0   0.0   0.0   0.0   0.0\n",
      "                 0     0     0     0     0            \n",
      "------------------------------------------------------\n",
      "18      0.00   0.0   0.0   0.0   0.0   0.0   0.0   0.0\n",
      "                 0     0     0     0     0            \n",
      "------------------------------------------------------\n",
      "19      0.00   0.0   0.0   0.0   0.0   0.0   0.0   0.0\n",
      "                 0     0     0     0     0            \n",
      "------------------------------------------------------\n",
      "20      0.00   0.0   0.0   0.0   0.0   0.0   0.0   0.0\n",
      "                 0     0     0     0     0            \n",
      "------------------------------------------------------\n",
      "21      0.00   0.0   0.0   0.0   0.0   0.0   0.0   0.0\n",
      "                 0     0     0     0     0            \n",
      "------------------------------------------------------\n",
      "22      0.00   0.0   0.0   0.0   0.0   0.0   0.0   0.0\n",
      "                 0     0     0     0     0            \n",
      "------------------------------------------------------\n",
      "23      0.00   0.0   0.0   0.0   0.0   0.0   0.0   0.0\n",
      "                 0     0     0     0     0            \n",
      "------------------------------------------------------\n",
      "24      0.00   0.0   0.0   0.0   0.0   0.0   0.0   0.0\n",
      "                 0     0     0     0     0            \n"
     ]
    },
    {
     "name": "stderr",
     "output_type": "stream",
     "text": [
      "<ipython-input-48-39081d544541>:41: RuntimeWarning: invalid value encountered in true_divide\n",
      "  c = [note_to_appreciation(val) for val in note_cptce/bareme_cptce]\n",
      "<ipython-input-48-39081d544541>:47: RuntimeWarning: invalid value encountered in double_scalars\n",
      "  result_cptce += \"     {}\".format(note_to_appreciation(val/bar))\n",
      "<ipython-input-48-39081d544541>:47: RuntimeWarning: invalid value encountered in long_scalars\n",
      "  result_cptce += \"     {}\".format(note_to_appreciation(val/bar))\n"
     ]
    }
   ],
   "source": [
    "tp       = \"tp2\"     # CHOIX DU TP\n",
    "n_groupe = 25        # nombre de groupes\n",
    "\n",
    "df = pandas.read_excel(filename, sheet_name=tp, header=2)\n",
    "df = df.fillna(\"0\")\n",
    "\n",
    "competences = []     # Liste des compétences évaluées (plusieurs items par compétence possibles)\n",
    "for cptce in np.ndarray.astype(np.array(df[\"Compétence\"]), str):\n",
    "    if cptce == \"0\":\n",
    "        competences.append(competences[-1])\n",
    "    else:\n",
    "        competences.append(cptce)\n",
    "cptces = set(competences) # Liste des compétences\n",
    "\n",
    "bareme = np.ndarray.astype(np.array(df[\"Barême\"]), int) # barême par item\n",
    "print(\"Groupe   /20   APP   ANA   REA   VAL   COM   RCO  AUTO\")\n",
    "for i in range(n_groupe):\n",
    "    appreciations = np.ndarray.astype(np.array(df[i+1]), str) # A, B, C, D ou 0 pour chaque item\n",
    "    note = []\n",
    "    for j, appreciation in enumerate(appreciations):\n",
    "        note.append(appreciation_to_note(appreciation) * bareme[j])\n",
    "    note = np.array(note)\n",
    "    \n",
    "    note_cptce   = [] # note par competence\n",
    "    bareme_cptce = [] # bareme par compétence\n",
    "    for k in range(len(note)):\n",
    "        if len(note_cptce) == 0:\n",
    "            note_cptce.append(note[k])\n",
    "            bareme_cptce.append(bareme[k])\n",
    "        else:\n",
    "            if competences[k] == competences[k-1]:\n",
    "                note_cptce[-1]  += note[k]\n",
    "                bareme_cptce[-1]+= bareme[k]\n",
    "            else:\n",
    "                note_cptce.append(note[k])\n",
    "                bareme_cptce.append(bareme[k])\n",
    "    note_cptce = np.array(note_cptce)\n",
    "    bareme_cptce = np.array(bareme_cptce)\n",
    "    \n",
    "    x = sum(note)/sum(bareme) * 20 # note finale /20\n",
    "    c = [note_to_appreciation(val) for val in note_cptce/bareme_cptce]\n",
    "    \n",
    "    result = \"{:2.0f}     {:5.2f}\".format(i, x)\n",
    "    result_cptce = \"            \"\n",
    "    for val, bar in zip(note_cptce, bareme_cptce):\n",
    "        result += \"{:6.1f}\".format(val)\n",
    "        result_cptce += \"     {}\".format(note_to_appreciation(val/bar))\n",
    "        \n",
    "    print(\"------------------------------------------------------\")\n",
    "    print(result)\n",
    "    print(result_cptce)"
   ]
  },
  {
   "cell_type": "code",
   "execution_count": 9,
   "metadata": {},
   "outputs": [
    {
     "data": {
      "text/plain": [
       "['A', 'A', 'B', 'A', 'A', 'ne', 'ne']"
      ]
     },
     "execution_count": 9,
     "metadata": {},
     "output_type": "execute_result"
    }
   ],
   "source": [
    "c"
   ]
  },
  {
   "cell_type": "code",
   "execution_count": 10,
   "metadata": {},
   "outputs": [
    {
     "name": "stderr",
     "output_type": "stream",
     "text": [
      "<ipython-input-10-55591bee9fbc>:1: RuntimeWarning: invalid value encountered in true_divide\n",
      "  note_cptce/bareme_cptce\n"
     ]
    },
    {
     "data": {
      "text/plain": [
       "array([1.    , 0.85  , 0.6875, 1.    , 1.    ,    nan,    nan])"
      ]
     },
     "execution_count": 10,
     "metadata": {},
     "output_type": "execute_result"
    }
   ],
   "source": [
    "note_cptce/bareme_cptce"
   ]
  },
  {
   "cell_type": "code",
   "execution_count": 25,
   "metadata": {},
   "outputs": [
    {
     "data": {
      "text/plain": [
       "{'ANA', 'APP', 'AUTO', 'COM', 'RCO', 'REA', 'VAL'}"
      ]
     },
     "execution_count": 25,
     "metadata": {},
     "output_type": "execute_result"
    }
   ],
   "source": [
    "cptces"
   ]
  },
  {
   "cell_type": "code",
   "execution_count": null,
   "metadata": {},
   "outputs": [],
   "source": []
  }
 ],
 "metadata": {
  "kernelspec": {
   "display_name": "Python 3",
   "language": "python",
   "name": "python3"
  },
  "language_info": {
   "codemirror_mode": {
    "name": "ipython",
    "version": 3
   },
   "file_extension": ".py",
   "mimetype": "text/x-python",
   "name": "python",
   "nbconvert_exporter": "python",
   "pygments_lexer": "ipython3",
   "version": "3.8.3"
  }
 },
 "nbformat": 4,
 "nbformat_minor": 4
}
