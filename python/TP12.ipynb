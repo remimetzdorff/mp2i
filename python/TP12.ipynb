{
 "cells": [
  {
   "cell_type": "code",
   "execution_count": 1,
   "metadata": {},
   "outputs": [
    {
     "name": "stdout",
     "output_type": "stream",
     "text": [
      "Populating the interactive namespace from numpy and matplotlib\n"
     ]
    }
   ],
   "source": [
    "%pylab inline\n",
    "import scipy.constants as cst"
   ]
  },
  {
   "cell_type": "code",
   "execution_count": 5,
   "metadata": {},
   "outputs": [
    {
     "name": "stdout",
     "output_type": "stream",
     "text": [
      "1.6431263577026485e-06\n",
      "1.6933333333333334e-06\n"
     ]
    }
   ],
   "source": [
    "alpha_d = (289 + 18/60) * np.pi/180\n",
    "alpha_g = 248 * np.pi/180\n",
    "Dm = np.abs(alpha_d - alpha_g) / 2\n",
    "\n",
    "d = 589e-9 / 2 / np.sin(Dm/2)\n",
    "print(d)\n",
    "print(2.54e-2/15000)"
   ]
  },
  {
   "cell_type": "code",
   "execution_count": 9,
   "metadata": {},
   "outputs": [
    {
     "name": "stdout",
     "output_type": "stream",
     "text": [
      "4.35338562376638e-07\n"
     ]
    }
   ],
   "source": [
    "alpha_d = (283 + 50/60) * np.pi/180\n",
    "alpha_g = (253 + 23/60) * np.pi/180\n",
    "Dm = np.abs(alpha_d - alpha_g) / 2\n",
    "\n",
    "wl = 2*d*np.sin(Dm/2)\n",
    "print(wl)"
   ]
  },
  {
   "cell_type": "code",
   "execution_count": null,
   "metadata": {},
   "outputs": [],
   "source": []
  }
 ],
 "metadata": {
  "kernelspec": {
   "display_name": "Python 3",
   "language": "python",
   "name": "python3"
  },
  "language_info": {
   "codemirror_mode": {
    "name": "ipython",
    "version": 3
   },
   "file_extension": ".py",
   "mimetype": "text/x-python",
   "name": "python",
   "nbconvert_exporter": "python",
   "pygments_lexer": "ipython3",
   "version": "3.8.3"
  }
 },
 "nbformat": 4,
 "nbformat_minor": 4
}
