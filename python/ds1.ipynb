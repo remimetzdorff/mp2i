{
 "cells": [
  {
   "cell_type": "code",
   "execution_count": 41,
   "metadata": {},
   "outputs": [
    {
     "name": "stdout",
     "output_type": "stream",
     "text": [
      "Populating the interactive namespace from numpy and matplotlib\n"
     ]
    }
   ],
   "source": [
    "%pylab inline\n",
    "\n",
    "def mysavefig(filename):\n",
    "    plt.tight_layout()\n",
    "    plt.savefig(\"../images/ds1/\"+filename, bbox_inches=\"tight\", dpi=200)\n",
    "    return"
   ]
  },
  {
   "cell_type": "code",
   "execution_count": 44,
   "metadata": {},
   "outputs": [
    {
     "name": "stdout",
     "output_type": "stream",
     "text": [
      "0.031004232705326262 -0.049567067400879065\n",
      "0.0809925925925926 0.07890515463917526\n",
      "-1.4939048061223477\n"
     ]
    }
   ],
   "source": [
    "# focale du doublet AC254-080-B\n",
    "\n",
    "f_fab = 80.3e-3\n",
    "u_fab = f_fab * 0.01 / np.sqrt(3)\n",
    "\n",
    "def focale(n, r1, r2):\n",
    "    v = (n - 1) * (1/r1 + 1/r2)\n",
    "    return 1/v\n",
    "\n",
    "f1 = focale(1.6584, 43.2e-3, 38.7e-3)\n",
    "f2 = focale(1.7813, -374e-3, -43.2e-3)\n",
    "\n",
    "print(f1, f2)\n",
    "f1 = 30.8e-3\n",
    "f2 = -49.7e-3\n",
    "f_col = f1 * f2 / (f1 + f2)\n",
    "f_sep = - f1 * f2 / (-f1 + .5e-3 - f2)\n",
    "print(f_col, f_sep)\n",
    "print((f_fab - f_col) / u_fab)\n"
   ]
  },
  {
   "cell_type": "code",
   "execution_count": 43,
   "metadata": {},
   "outputs": [
    {
     "data": {
      "image/png": "[encoded data removed]",
      "text/plain": [
       "<Figure size 288x216 with 1 Axes>"
      ]
     },
     "metadata": {
      "needs_background": "light"
     },
     "output_type": "display_data"
    }
   ],
   "source": [
    "i = np.linspace(0,np.pi/2,1001)\n",
    "n = 1.33\n",
    "r = np.arcsin(np.sin(i)/n)\n",
    "D = 4*r - 2*i - np.pi\n",
    "\n",
    "plt.figure(figsize=(4,3))\n",
    "plt.plot(i*180/np.pi, D*180/np.pi)\n",
    "plt.xlabel(r\"Angle d'incidence $i$ ($\\degree$)\")\n",
    "plt.ylabel(r\"Déviation $D$ ($\\degree$)\")\n",
    "mysavefig(\"deviation.png\")"
   ]
  },
  {
   "cell_type": "code",
   "execution_count": null,
   "metadata": {},
   "outputs": [],
   "source": []
  }
 ],
 "metadata": {
  "kernelspec": {
   "display_name": "Python 3",
   "language": "python",
   "name": "python3"
  },
  "language_info": {
   "codemirror_mode": {
    "name": "ipython",
    "version": 3
   },
   "file_extension": ".py",
   "mimetype": "text/x-python",
   "name": "python",
   "nbconvert_exporter": "python",
   "pygments_lexer": "ipython3",
   "version": "3.8.3"
  }
 },
 "nbformat": 4,
 "nbformat_minor": 4
}
