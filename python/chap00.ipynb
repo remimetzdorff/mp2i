{
 "cells": [
  {
   "cell_type": "code",
   "execution_count": 18,
   "metadata": {},
   "outputs": [
    {
     "name": "stdout",
     "output_type": "stream",
     "text": [
      "Populating the interactive namespace from numpy and matplotlib\n"
     ]
    }
   ],
   "source": [
    "%pylab inline\n",
    "import fitting\n",
    "\n",
    "def mysavefig(filename):\n",
    "    plt.tight_layout()\n",
    "    plt.savefig(\"../images/chap0/\"+filename, bbox_inches=\"tight\", dpi=200)\n",
    "    return"
   ]
  },
  {
   "cell_type": "markdown",
   "metadata": {},
   "source": [
    "## Comment estimer la puissance d'une bombe atomique à partir d'une photo ?\n",
    "\n",
    "https://scienceetonnante.com/2014/01/27/comment-estimer-la-puissance-dune-bombe-atomique-a-partir-dune-photo/\n",
    "\n",
    "The formation of a blast wave by a very intense explosion. I. Theoretical discussion, G. Taylor\n",
    "\n",
    "The formation of a blast wave by a very intense explosion. II. The atomic explosion of 1945, G. Taylor"
   ]
  },
  {
   "cell_type": "code",
   "execution_count": 37,
   "metadata": {},
   "outputs": [
    {
     "name": "stdout",
     "output_type": "stream",
     "text": [
      "alpha = 570.5924913814566\n",
      "E = 75603216836951.69 J\n",
      "E = 18000.765913559924 tonnes de TNT\n"
     ]
    },
    {
     "data": {
      "image/png": "[encoded data removed]",
      "text/plain": [
       "<Figure size 432x288 with 1 Axes>"
      ]
     },
     "metadata": {
      "needs_background": "light"
     },
     "output_type": "display_data"
    }
   ],
   "source": [
    "from fitting import fitting\n",
    "\n",
    "t1 = [0.10, 0.24, 0.38, 0.52, 0.66, 0.80, 0.94]\n",
    "t2 = [1.08, 1.22, 1.36, 1.50, 1.65, 1.79, 1.93]\n",
    "t3 = [3.26, 3.53, 3.80, 4.07, 4.34, 4.61]\n",
    "t4 = [15.0, 25.0, 34.0, 53.0, 62.0]\n",
    "t = np.array(t1 + t2 + t3 + t4) * 1e-3 # temps écoulé depuis l'explosion en secondes\n",
    "\n",
    "r1 = [11.1, 19.9, 25.4, 28.8, 31.9, 34.2, 36.3]\n",
    "r2 = [38.9, 41.0, 42.8, 44.4, 46.0, 46.9, 48.7]\n",
    "r3 = [59.0, 61.1, 62.9, 64.3, 65.6, 67.3]\n",
    "r4 = [106.5, 130.0, 145.0, 175.0, 185.0]\n",
    "r = np.array(r1 + r2 + r3 + r4) # rayon de l'onde de choc en mètres\n",
    "\n",
    "fitter = fitting.Fit(\"taylor_nuclearblast\", x=t, y=r)\n",
    "fit_params, ufit_params = fitter.fit(manualguess_params=None, verbosemode=False)\n",
    "x = np.logspace(-5,0, 101)\n",
    "yfit = fitter.func(x, *fit_params)\n",
    "\n",
    "alpha = fit_params[0]\n",
    "rho = 1.25\n",
    "E = rho * alpha ** 5\n",
    "print(\"alpha = {}\".format(alpha))\n",
    "print(\"E = {} J\".format(E))\n",
    "print(\"E = {} tonnes de TNT\".format(E/4.2e9))\n",
    "\n",
    "plt.figure(figsize=(6,4))\n",
    "\n",
    "plt.loglog(t, r, \"o\", label=\"Données expérimentales\")\n",
    "plt.plot(x, yfit, label=r\"Ajustement $r(t) = \\alpha t^{2/5}$\")\n",
    "\n",
    "plt.xlim(0.0001, 0.1)\n",
    "plt.ylim(10,200)\n",
    "plt.xlabel(\"Temps $t$ depuis l'explosion (s)\")\n",
    "plt.ylabel(\"Rayon $r(t)$ de l'onde de choc (m)\")\n",
    "plt.legend(loc=\"upper left\")\n",
    "\n",
    "mysavefig(\"taylor_nuclearblast.png\")"
   ]
  },
  {
   "cell_type": "code",
   "execution_count": null,
   "metadata": {},
   "outputs": [],
   "source": []
  }
 ],
 "metadata": {
  "kernelspec": {
   "display_name": "Python 3",
   "language": "python",
   "name": "python3"
  },
  "language_info": {
   "codemirror_mode": {
    "name": "ipython",
    "version": 3
   },
   "file_extension": ".py",
   "mimetype": "text/x-python",
   "name": "python",
   "nbconvert_exporter": "python",
   "pygments_lexer": "ipython3",
   "version": "3.8.3"
  }
 },
 "nbformat": 4,
 "nbformat_minor": 4
}
