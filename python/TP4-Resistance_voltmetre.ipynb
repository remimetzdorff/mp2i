{
 "cells": [
  {
   "cell_type": "code",
   "execution_count": 1,
   "metadata": {},
   "outputs": [
    {
     "name": "stdout",
     "output_type": "stream",
     "text": [
      "Populating the interactive namespace from numpy and matplotlib\n"
     ]
    }
   ],
   "source": [
    "%pylab inline"
   ]
  },
  {
   "cell_type": "code",
   "execution_count": 24,
   "metadata": {},
   "outputs": [
    {
     "name": "stdout",
     "output_type": "stream",
     "text": [
      "Courte dérivation\n",
      "\tR  = (3.42 +/- 0.06) Mohm\n",
      "\tEn = 23.6\n",
      "Longue dérivation\n",
      "\tR = (5.0 +/- 0.1) Mohm\n",
      "\tEn = 0.1\n"
     ]
    }
   ],
   "source": [
    "# Mesure d'une résistance de 5 Mohm (elc dr07) avec multimètres metrix mx54\n",
    "# http://www.snesometel.tn/images/PDF/NF-MX54C.pdf\n",
    "\n",
    "R  = 5e6 # résistance elc dr07 en ohms https://docs.rs-online.com/0b21/0900766b815ee522.pdf\n",
    "uR = R * .01 / np.sqrt(3) # 1%\n",
    "\n",
    "# Montage courte dérivation\n",
    "U  = 6.026 # tension en volts\n",
    "uU = (U * .05 / 100 + 2e-3) / np.sqrt(3)\n",
    "I  = 1.76e-6 # intensité en ampères\n",
    "uI = (I* .2 / 100 + 50e-9) / np.sqrt(3)\n",
    "\n",
    "Rsd  = U/I\n",
    "uRsd = Rsd * np.sqrt( (uU/U)**2 + (uI/I)**2 )\n",
    "Esd = np.abs(R - Rsd) / np.sqrt(uR**2 + uRsd**2)\n",
    "print(\"Courte dérivation\")\n",
    "print(\"\\tR  = ({:.2f} +/- {:.2f}) Mohm\".format(Rsd*1e-6, uRsd*1e-6))\n",
    "print(\"\\tEn = {:.1f}\".format(Esd))\n",
    "\n",
    "# Montage longue dérivation\n",
    "U  = 6.027 # tension en volts\n",
    "uU = (U * .05 / 100 + 2e-3) / np.sqrt(3)\n",
    "I  = 1.21e-6 # intensité en ampères\n",
    "uI = (I* .2 / 100 + 50e-9) / np.sqrt(3)\n",
    "\n",
    "Rld  = U/I\n",
    "uRld = Rld * np.sqrt( (uU/U)**2 + (uI/I)**2 )\n",
    "Eld = np.abs(R - Rld) / np.sqrt(uR**2 + uRld**2)\n",
    "print(\"Longue dérivation\")\n",
    "print(\"\\tR = ({:.1f} +/- {:.1f}) Mohm\".format(Rld*1e-6, uRld*1e-6))\n",
    "print(\"\\tEn = {:.1f}\".format(Eld))"
   ]
  },
  {
   "cell_type": "code",
   "execution_count": 30,
   "metadata": {},
   "outputs": [
    {
     "name": "stdout",
     "output_type": "stream",
     "text": [
      "Courte dérivation\n",
      "\tR  = (33.61 +/- 0.04) ohm\n",
      "\tEn = 2.8\n",
      "Longue dérivation\n",
      "\tR = (35.37 +/- 0.05) ohm\n",
      "\tEn = 23.0\n"
     ]
    }
   ],
   "source": [
    "# Mesure d'une résistance de 30 ohm (elc dr07) avec multimètres metrix mx54\n",
    "\n",
    "R  = 30 # résistance en ohms affichée sur la boîte à décades\n",
    "uR = R * .01 / np.sqrt(3) # 1%\n",
    "\n",
    "R  = 33.37 #résistance mesurée à l'ohmmètre\n",
    "uR = (R * .07 / 100 + 50e-3)\n",
    "\n",
    "# Montage courte dérivation\n",
    "U  = 5.737 # tension en volts\n",
    "uU = (U * .05 / 100 + 2e-3) / np.sqrt(3)\n",
    "I  = 170.68e-3 # intensité en ampères\n",
    "uI = (I* .2 / 100 + 20e-6) / np.sqrt(3)\n",
    "\n",
    "Rsd  = U/I\n",
    "uRsd = Rsd * np.sqrt( (uU/U)**2 + (uI/I)**2 )\n",
    "Esd = np.abs(R - Rsd) / np.sqrt(uR**2 + uRsd**2)\n",
    "print(\"Courte dérivation\")\n",
    "print(\"\\tR  = ({:.2f} +/- {:.2f}) ohm\".format(Rsd, uRsd))\n",
    "print(\"\\tEn = {:.1f}\".format(Esd))\n",
    "\n",
    "# Montage longue dérivation\n",
    "U  = 6.020 # tension en volts\n",
    "uU = (U * .05 / 100 + 2e-3) / np.sqrt(3)\n",
    "I  = 170.20e-3 # intensité en ampères\n",
    "uI = (I* .2 / 100 + 20e-6) / np.sqrt(3)\n",
    "\n",
    "Rld  = U/I\n",
    "uRld = Rld * np.sqrt( (uU/U)**2 + (uI/I)**2 )\n",
    "Eld = np.abs(R - Rld) / np.sqrt(uR**2 + uRld**2)\n",
    "print(\"Longue dérivation\")\n",
    "print(\"\\tR = ({:.2f} +/- {:.2f}) ohm\".format(Rld, uRld))\n",
    "print(\"\\tEn = {:.1f}\".format(Eld))\n",
    "\n",
    "# Cette mesure n'est pas en accord avec la donnée fabricant\n",
    "# Cela peut être dû à la détérioration des résistances faibles\n",
    "# En effet elles sont plus sensibles aux fort courants\n",
    "# La boîte à décades utilisée était défectueuse pour la décade 1 ohm\n",
    "\n",
    "# Cette mesure n'est pas tout à fait en accord avec la mesure réalisée à l'ohmmètre non plus...\n",
    "# Il y avait aussi des problèmes avec les connections des fils bananes.\n",
    "# La résistance de contact est peut-être plus élevée..."
   ]
  },
  {
   "cell_type": "code",
   "execution_count": null,
   "metadata": {},
   "outputs": [],
   "source": []
  }
 ],
 "metadata": {
  "kernelspec": {
   "display_name": "Python 3",
   "language": "python",
   "name": "python3"
  },
  "language_info": {
   "codemirror_mode": {
    "name": "ipython",
    "version": 3
   },
   "file_extension": ".py",
   "mimetype": "text/x-python",
   "name": "python",
   "nbconvert_exporter": "python",
   "pygments_lexer": "ipython3",
   "version": "3.8.3"
  }
 },
 "nbformat": 4,
 "nbformat_minor": 4
}
